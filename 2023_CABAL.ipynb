{
 "cells": [
  {
   "cell_type": "markdown",
   "metadata": {},
   "source": [
    "TITLE OF YOUR MAIL :\n",
    "    TDNLP ESILV 2023\n",
    "    \n",
    "PLEASE send me an email with your TD as\n",
    "2023_{NOM}.html\n",
    "(ex: my name is Maxence Jeunesse => 2023_JEUNESSE.html)\n",
    "html OR pdf BUT NOT .iypnb NEITHER .py\n",
    "to\n",
    "maxence.jeunesse@covea.fr\n",
    "DEADLINE : 17.11.2023"
   ]
  },
  {
   "cell_type": "markdown",
   "metadata": {},
   "source": [
    "IMAGINE \n",
    "negativewords = ['WAR','CRISIS','DEFENSIVE']\n",
    "positivewords = ['UP','LUCKY']\n",
    "\n",
    " = -1 -1 0 +1 = -1\n",
    "computeMCLscore('WAR CRISIS IS LUCKY')\n",
    "computeMCLscore('b\"defensive, DEFENSIVE\"') = -2"
   ]
  },
  {
   "cell_type": "code",
   "execution_count": 5,
   "id": "f69ca6b9-166c-4fb5-abb9-52dcc1c71267",
   "metadata": {},
   "outputs": [],
   "source": [
    "import numpy as np\n",
    "import pandas as pd"
   ]
  },
  {
   "cell_type": "markdown",
   "id": "991f374b-0439-4ba5-b24a-0f239872251a",
   "metadata": {},
   "source": [
    "Organisation :\n",
    "\n",
    "    TD\\\n",
    "    - TD.ipynb\n",
    "    - data\\\n",
    "          - Combined_News_DJIA.csv\n",
    "          - upload_DJIA_table.csv\n",
    "          - Loughran-McDonald_MasterDictionary_1993-2021.csv\n",
    "          \n",
    "\n",
    "requirements partie 1\n",
    "- numpy\n",
    "- pandas\n",
    "- scikit-learn\n",
    "\n",
    "requirements partie 2\n",
    "- spacy\n",
    "\n",
    "\n",
    "## Données utilisées : description\n",
    "\n",
    "https://www.kaggle.com/datasets/aaron7sun/stocknews\n",
    "\n",
    "I provided three data files in .csv format:\n",
    "\n",
    "1. RedditNews.csv: two columns\n",
    "The first column is the \"date\", and second column is the \"news headlines\".\n",
    "All news are ranked from top to bottom based on how hot they are.\n",
    "Hence, there are 25 lines for each date.\n",
    "\n",
    "2. DJIA_table.csv:\n",
    "Downloaded directly from Yahoo Finance: check out the web page for more info.\n",
    "\n",
    "3. CombinedNewsDJIA.csv:\n",
    "To make things easier for my students, I provide this combined dataset with 27 columns.\n",
    "The first column is \"Date\", the second is \"Label\", and the following ones are news headlines ranging from \"Top1\" to \"Top25\".\n",
    "\n",
    "\n",
    "\n",
    "To my students:\n",
    "\n",
    "I made this a binary classification task. Hence, there are only two labels:\n",
    "\n",
    "\"1\" when DJIA Adj Close value rose or stayed as the same;\n",
    "\n",
    "\"0\" when DJIA Adj Close value decreased.\n",
    "\n",
    "For task evaluation, please use data from 2008-08-08 to 2014-12-31 as Training Set, and Test Set is then the following two years data (from 2015-01-02 to 2016-07-01). This is roughly a 80%/20% split.\n",
    "\n",
    "And, of course, use AUC as the evaluation metric."
   ]
  },
  {
   "cell_type": "code",
   "execution_count": 6,
   "id": "fc4b243b-d781-4a98-a023-c722351f4cd3",
   "metadata": {},
   "outputs": [
    {
     "name": "stdout",
     "output_type": "stream",
     "text": [
      " Le volume dans le lecteur D s'appelle Data\n",
      " Le num�ro de s�rie du volume est BCD0-88F8\n",
      "\n",
      " R�pertoire de d:\\VSCodeWrokSpace\\DATAA5\\data\n",
      "\n",
      "29/11/2023  09:10    <DIR>          .\n",
      "29/11/2023  09:10    <DIR>          ..\n",
      "29/11/2023  09:10         5�617�630 Combined_News_DJIA.csv\n",
      "29/11/2023  09:10         8�880�507 Loughran-McDonald_MasterDictionary_1993-2021.csv\n",
      "29/11/2023  09:10         9�099�659 RedditNews.csv\n",
      "29/11/2023  09:10           167�083 upload_DJIA_table.csv\n",
      "               4 fichier(s)       23�764�879 octets\n",
      "               2 R�p(s)  760�524�320�768 octets libres\n"
     ]
    }
   ],
   "source": [
    "%ls data\\"
   ]
  },
  {
   "cell_type": "code",
   "execution_count": 7,
   "id": "bae4cdda-0f50-4365-9fee-4e2d69a9b63d",
   "metadata": {},
   "outputs": [],
   "source": [
    "df = pd.read_csv(r'data\\Combined_News_DJIA.csv')\n",
    "df['Date']=pd.to_datetime(df['Date'])\n",
    "djia = pd.read_csv(r'data\\upload_DJIA_table.csv')\n",
    "djia['Date'] = pd.to_datetime(djia['Date'])"
   ]
  },
  {
   "cell_type": "markdown",
   "id": "8c7587df",
   "metadata": {},
   "source": [
    "# Approche 1 : Loughran McDonald\n",
    "\n",
    "A partir du fichier Loughran-McDonald_MasterDictionary_1993-2021.csv pour l'année 2014\n",
    "\n",
    "https://sraf.nd.edu/loughranmcdonald-master-dictionary/\n",
    "\n",
    "1. calculer le sentiment pour chaque headline (25 au total) (+1 par mot \"positif\" et -1 par mot \"negatif\")\n",
    "2. construisez une régression logistique qui prend en input le sentiment des 25 headlines et estime le signe de DJIA (- = 0, + = 1)\n",
    "3. Calculez l'AUC sur la période test\n",
    "4. Calculez le sharpe ratio sur la période test\n",
    "\n",
    "\n",
    "## A propos du dictionnaire\n",
    "\n",
    "The dictionary reports counts, proportion of total, average proportion per document, standard deviation of proportion per document, document count (i.e., number of documents containing at least one occurrence of the word), seven sentiment category identifiers,  number of syllables, and source for each word (source is either 12of12inf or the year in which the word was added).  \n",
    " \n",
    "The sentiment categories are: negative, positive, uncertainty, litigious, strong modal, weak modal, and constraining. The sentiment words are flagged with a number indicating the year in which they were added to the list. Note: A year preceded by a negative sign indicates the year/version when the word was removed from the sentiment category.  \n",
    " \n",
    "Although the dictionary does not, in general, include abbreviations, in the post-2018 versions we have added a limited number of abbreviations commonly occurring in the periodic filings"
   ]
  },
  {
   "cell_type": "code",
   "execution_count": 8,
   "id": "a61401f6-0a8f-4662-aa24-afd326ee6d43",
   "metadata": {},
   "outputs": [],
   "source": [
    "mcl=pd.read_csv(r'data/Loughran-McDonald_MasterDictionary_1993-2021.csv')"
   ]
  },
  {
   "cell_type": "code",
   "execution_count": 9,
   "id": "b943dcd4-7627-4ad7-85d8-2782577e2ed1",
   "metadata": {},
   "outputs": [],
   "source": [
    "negativescope = mcl['Negative']>0\n",
    "negativescope&= mcl['Negative']<2015\n",
    "\n",
    "positivescope = mcl['Positive']>0\n",
    "positivescope&= mcl['Positive']<2015\n"
   ]
  },
  {
   "cell_type": "code",
   "execution_count": 10,
   "id": "cdf23361",
   "metadata": {},
   "outputs": [],
   "source": [
    "negative_words = set(mcl[negativescope]['Word'])\n",
    "positive_words = set(mcl[positivescope]['Word'])"
   ]
  },
  {
   "cell_type": "code",
   "execution_count": 11,
   "id": "6beb54f1",
   "metadata": {},
   "outputs": [],
   "source": [
    "from collections import Counter\n",
    "\n",
    "def computeMCLscore(txti):\n",
    "    if pd.isnull(txti):\n",
    "        return 0\n",
    "    txt=txti[2:-1].upper()\n",
    "    r = 0\n",
    "    for word in txt.split():\n",
    "        if word in positive_words:\n",
    "            r += 1\n",
    "        elif word in negative_words:\n",
    "            r -= 1\n",
    "    return r\n"
   ]
  },
  {
   "cell_type": "code",
   "execution_count": 12,
   "id": "168ac89e",
   "metadata": {},
   "outputs": [
    {
     "data": {
      "text/plain": [
       "True    1989\n",
       "Name: count, dtype: int64"
      ]
     },
     "execution_count": 12,
     "metadata": {},
     "output_type": "execute_result"
    }
   ],
   "source": [
    "labels = df[['Date','Label']].copy()\n",
    "labels['Date']=pd.to_datetime(labels['Date'])\n",
    "labels= labels.set_index('Date')\n",
    "comp=djia.sort_values(by='Date').set_index('Date').diff().join(labels)\n",
    "comp['LabeX']=(comp['Close']>0).astype('int')\n",
    "(comp['Label']==comp['LabeX']).value_counts()"
   ]
  },
  {
   "cell_type": "code",
   "execution_count": 13,
   "id": "9f1f0ca5",
   "metadata": {},
   "outputs": [
    {
     "name": "stderr",
     "output_type": "stream",
     "text": [
      " 68%|██████▊   | 17/25 [00:00<00:00, 81.09it/s]"
     ]
    },
    {
     "name": "stderr",
     "output_type": "stream",
     "text": [
      "100%|██████████| 25/25 [00:00<00:00, 82.95it/s]\n"
     ]
    }
   ],
   "source": [
    "from tqdm import tqdm\n",
    "\n",
    "cols=['Top1', 'Top2', 'Top3', 'Top4', 'Top5', 'Top6', 'Top7',\n",
    "       'Top8', 'Top9', 'Top10', 'Top11', 'Top12', 'Top13', 'Top14', 'Top15',\n",
    "       'Top16', 'Top17', 'Top18', 'Top19', 'Top20', 'Top21', 'Top22', 'Top23',\n",
    "       'Top24', 'Top25']\n",
    "newdf=pd.DataFrame()\n",
    "newdf['Date']=pd.to_datetime(df['Date'])\n",
    "newdf['Label']=df['Label'].shift()\n",
    "LMC_cols=[]\n",
    "for c in tqdm(cols):\n",
    "    newdf[c] = df[c]\n",
    "    newdf['LMC'+c] = df[c].apply(computeMCLscore)\n",
    "    LMC_cols.append('LMC'+c)\n",
    "    \n",
    "newdf = newdf.sort_values(by='Date',ascending=True)\n",
    "newdf['Label']=newdf['Label'].shift(-1)\n",
    "newdf=newdf.dropna()"
   ]
  },
  {
   "cell_type": "code",
   "execution_count": 14,
   "id": "46c0c954",
   "metadata": {},
   "outputs": [],
   "source": [
    "trainscope = newdf['Date']<pd.to_datetime('2015-01-01')\n",
    "testscope = newdf['Date']>pd.to_datetime('2015-01-01')"
   ]
  },
  {
   "cell_type": "code",
   "execution_count": 15,
   "id": "7a530b96",
   "metadata": {},
   "outputs": [],
   "source": [
    "X_train = newdf[trainscope][LMC_cols]\n",
    "y_train = newdf[trainscope]['Label']\n",
    "\n",
    "X_test = newdf[testscope][LMC_cols]\n",
    "y_test = newdf[testscope]['Label']"
   ]
  },
  {
   "cell_type": "code",
   "execution_count": 16,
   "metadata": {},
   "outputs": [],
   "source": [
    "from sklearn.linear_model import LogisticRegressionCV\n",
    "from sklearn import metrics\n",
    "\n",
    "# Entraînement du modèle\n",
    "logreg = LogisticRegressionCV(cv=5, penalty='l1', solver='liblinear', random_state=42)\n",
    "logreg.fit(X_train, y_train)\n",
    "\n",
    "# Prédiction sur l'ensemble de test\n",
    "y_pred_prob = logreg.predict_proba(X_test)[:, 1]  # Probabilités pour la classe 1\n",
    "y_pred = logreg.predict(X_test)  # Prédictions binaires\n"
   ]
  },
  {
   "cell_type": "code",
   "execution_count": 17,
   "metadata": {},
   "outputs": [
    {
     "name": "stdout",
     "output_type": "stream",
     "text": [
      "           Date  Label                                               Top1   \n",
      "0    2008-08-08    0.0  b\"Georgia 'downs two Russian warplanes' as cou...  \\\n",
      "1    2008-08-11    1.0  b'Why wont America and Nato help us? If they w...   \n",
      "2    2008-08-12    0.0  b'Remember that adorable 9-year-old who sang a...   \n",
      "3    2008-08-13    0.0  b' U.S. refuses Israel weapons to attack Iran:...   \n",
      "4    2008-08-14    1.0  b'All the experts admit that we should legalis...   \n",
      "...         ...    ...                                                ...   \n",
      "1983 2016-06-24    0.0  David Cameron to Resign as PM After EU Referendum   \n",
      "1984 2016-06-27    0.0  Barclays and RBS shares suspended from trading...   \n",
      "1985 2016-06-28    1.0  2,500 Scientists To Australia: If You Want To ...   \n",
      "1986 2016-06-29    1.0                   Explosion At Airport In Istanbul   \n",
      "1987 2016-06-30    1.0  Jamaica proposes marijuana dispensers for tour...   \n",
      "\n",
      "      LMCTop1                                               Top2  LMCTop2   \n",
      "0           0            b'BREAKING: Musharraf to be impeached.'        0  \\\n",
      "1           0        b'Bush puts foot down on Georgian conflict'       -1   \n",
      "2           0                 b\"Russia 'ends Georgia operation'\"        0   \n",
      "3          -1  b\"When the president ordered to attack Tskhinv...        0   \n",
      "4           0  b'War in South Osetia - 89 pictures made by a ...        0   \n",
      "...       ...                                                ...      ...   \n",
      "1983       -1  BBC forecasts UK votes to Leave the European U...        0   \n",
      "1984       -1  Pope says Church should ask forgiveness from g...        0   \n",
      "1985       -1  The personal details of 112,000 French police ...       -1   \n",
      "1986        0  Yemeni former president: Terrorism is the offs...        0   \n",
      "1987        0  Stephen Hawking says pollution and 'stupidity'...       -1   \n",
      "\n",
      "                                                   Top3  LMCTop3   \n",
      "0     b'Russia Today: Columns of troops roll into So...        0  \\\n",
      "1     b\"Jewish Georgian minister: Thanks to Israeli ...        0   \n",
      "2     b'\"If we had no sexual harassment we would hav...       -1   \n",
      "3     b' Israel clears troops who killed Reuters cam...        0   \n",
      "4     b'Swedish wrestler Ara Abrahamian throws away ...        0   \n",
      "...                                                 ...      ...   \n",
      "1983  Nicola Sturgeon says a second independence ref...        0   \n",
      "1984  Poland 'shocked' by xenophobic abuse of Poles ...       -1   \n",
      "1985  S&amp;P cuts United Kingdom sovereign credit r...        0   \n",
      "1986  UK must accept freedom of movement to access E...        0   \n",
      "1987  Boris Johnson says he will not run for Tory pa...        0   \n",
      "\n",
      "                                                   Top4  LMCTop4  ...   \n",
      "0     b'Russian tanks are moving towards the capital...       -1  ...  \\\n",
      "1     b'Georgian army flees in disarray as Russians ...       -2  ...   \n",
      "2     b\"Al-Qa'eda is losing support in Iraq because ...       -1  ...   \n",
      "3     b'Britain\\'s policy of being tough on drugs is...        0  ...   \n",
      "4     b'Russia exaggerated the death toll in South O...       -1  ...   \n",
      "...                                                 ...      ...  ...   \n",
      "1983  It's official. Britain votes to leave the Euro...        0  ...   \n",
      "1984  There will be no second referendum, cabinet ag...        0  ...   \n",
      "1985                Huge helium deposit found in Africa        0  ...   \n",
      "1986  Devastated: scientists too late to captive bre...       -1  ...   \n",
      "1987  Six gay men in Ivory Coast were abused and for...       -3  ...   \n",
      "\n",
      "                                                  Top21  LMCTop21   \n",
      "0     b'Why the Pentagon Thinks Attacking Iran is a ...        -1  \\\n",
      "1     b'Israeli Physicians Group Condemns State Tort...        -1   \n",
      "2             b'War in Georgia: The Israeli connection'         0   \n",
      "3                        b'Gorbachev: We Had No Choice'         0   \n",
      "4     b'Saudi Arabia: Mother moves to block child ma...         0   \n",
      "...                                                 ...       ...   \n",
      "1983  Thousands of London banking job cuts to start ...         0   \n",
      "1984  Brexit opinion poll reveals majority don't wan...         1   \n",
      "1985  Jean-Claude Juncker asks Farage: Why are you h...         0   \n",
      "1986       More than 40 killed in Yemen suicide attacks         0   \n",
      "1987  British pedophile sentenced to 85 years in US ...        -5   \n",
      "\n",
      "                                                  Top22  LMCTop22   \n",
      "0     b'Caucasus in crisis: Georgia invades South Os...         0  \\\n",
      "1     b' Russia has just beaten the United States ov...         0   \n",
      "2     b'All signs point to the US encouraging Georgi...         1   \n",
      "3     b'Witness: Russian forces head towards Tbilisi...        -1   \n",
      "4      b'Taliban wages war on humanitarian aid workers'         0   \n",
      "...                                                 ...       ...   \n",
      "1983  Google says there was a large spike in searche...         0   \n",
      "1984  Conservative MP Leave Campaigner: \"The leave c...         0   \n",
      "1985  \"Romanians for Remainians\" offering a new home...         0   \n",
      "1986  Google Found Disastrous Symantec and Norton Vu...        -3   \n",
      "1987  US permitted 1,200 offshore fracks in Gulf of ...         0   \n",
      "\n",
      "                                                  Top23  LMCTop23   \n",
      "0     b'Indian shoe manufactory  - And again in a se...         0  \\\n",
      "1     b'Perhaps *the* question about the Georgia - R...        -2   \n",
      "2     b'Christopher King argues that the US and NATO...        -1   \n",
      "3     b' Quarter of Russians blame U.S. for conflict...         0   \n",
      "4     b'Russia: World  \"can forget about\" Georgia\\'s...         1   \n",
      "...                                                 ...       ...   \n",
      "1983  EU referendum; Gibraltar backs Remain with 94%...         0   \n",
      "1984  Economists predict UK recession, further weake...        -1   \n",
      "1985  Brexit: Gibraltar in talks with Scotland to st...         0   \n",
      "1986  Extremist violence on the rise in Germany: Dom...         0   \n",
      "1987  We will be swimming in ridicule - French beach...        -2   \n",
      "\n",
      "                                                  Top24  LMCTop24   \n",
      "0     b'Visitors Suffering from Mental Illnesses Ban...        -1  \\\n",
      "1                    b'Russia is so much better at war'         1   \n",
      "2                           b'America: The New Mexico?'         0   \n",
      "3     b'Georgian president  says US military will ta...        -1   \n",
      "4     b'Darfur rebels accuse Sudan of mounting major...        -1   \n",
      "...                                                 ...       ...   \n",
      "1983  After Brexit, U.K. Residents Google 'What Is T...         0   \n",
      "1984  New EU 'superstate plan by France, Germany: Cr...         0   \n",
      "1985                   8 Suicide Bombers Strike Lebanon         0   \n",
      "1986  BBC News: Labour MPs pass Corbyn no-confidence...         0   \n",
      "1987  UEFA says no minutes of silence for Istanbul v...        -1   \n",
      "\n",
      "                                                  Top25  LMCTop25  \n",
      "0              b\"No Help for Mexico's Kidnapping Surge\"         0  \n",
      "1     b\"So this is what it's come to: trading sex fo...         0  \n",
      "2     b\"BBC NEWS | Asia-Pacific | Extinction 'by man...         0  \n",
      "3     b'2006: Nobel laureate Aleksander Solzhenitsyn...        -1  \n",
      "4     b'Philippines : Peace Advocate say Muslims nee...         0  \n",
      "...                                                 ...       ...  \n",
      "1983  A Turkish man has been found guilty of insulti...        -2  \n",
      "1984  Pakistani clerics declare transgender marriage...         0  \n",
      "1985  Mexico's security forces routinely use 'sexual...        -3  \n",
      "1986  Tiny New Zealand town with 'too many jobs' lau...         0  \n",
      "1987  Law Enforcement Sources: Gun Used in Paris Ter...         0  \n",
      "\n",
      "[1985 rows x 52 columns]\n"
     ]
    }
   ],
   "source": [
    "print(newdf)"
   ]
  },
  {
   "cell_type": "code",
   "execution_count": 18,
   "metadata": {},
   "outputs": [
    {
     "data": {
      "text/plain": [
       "1"
      ]
     },
     "execution_count": 18,
     "metadata": {},
     "output_type": "execute_result"
    }
   ],
   "source": [
    "computeMCLscore('b\"Accidentally BENEFICIALLY BENEFICIALLY.')"
   ]
  },
  {
   "cell_type": "code",
   "execution_count": 19,
   "metadata": {},
   "outputs": [
    {
     "name": "stdout",
     "output_type": "stream",
     "text": [
      "AUC Score: 0.5052356020942408\n"
     ]
    }
   ],
   "source": [
    "from sklearn.metrics import roc_auc_score\n",
    "\n",
    "auc_score = metrics.roc_auc_score(y_test, y_pred_prob)\n",
    "print(\"AUC Score:\", auc_score)\n",
    "\n"
   ]
  },
  {
   "cell_type": "code",
   "execution_count": 20,
   "metadata": {},
   "outputs": [],
   "source": [
    "djia['Date'] = pd.to_datetime(djia['Date'])\n",
    "djia = djia.sort_values(by='Date')\n",
    "djia['Daily_Returns'] = djia['Close'].pct_change()\n",
    "\n",
    "newdf_test = newdf[testscope]\n",
    "newdf_test = newdf_test.merge(djia[['Date', 'Daily_Returns']], on='Date')\n"
   ]
  },
  {
   "cell_type": "code",
   "execution_count": 21,
   "metadata": {},
   "outputs": [
    {
     "name": "stdout",
     "output_type": "stream",
     "text": [
      "Sharpe Ratio: -0.049726819119783904\n"
     ]
    }
   ],
   "source": [
    "y_pred = logreg.predict(X_test)\n",
    "predicted_returns = (y_pred * 2 - 1) * newdf_test['Daily_Returns']\n",
    "\n",
    "mean_return = np.mean(predicted_returns)\n",
    "std_return = np.std(predicted_returns)\n",
    "\n",
    "sharpe_ratio = mean_return / std_return if std_return != 0 else 0\n",
    "print(\"Sharpe Ratio:\", sharpe_ratio)\n"
   ]
  },
  {
   "cell_type": "code",
   "execution_count": 22,
   "metadata": {},
   "outputs": [
    {
     "name": "stdout",
     "output_type": "stream",
     "text": [
      "Sharpe Ratio: -0.049726819119783904\n"
     ]
    }
   ],
   "source": [
    "\n",
    "sharpe_ratio = mean_return / std_return if std_return != 0 else 0\n",
    "print(\"Sharpe Ratio:\", sharpe_ratio)\n"
   ]
  },
  {
   "cell_type": "markdown",
   "id": "66a9ed33",
   "metadata": {},
   "source": [
    "# Approche 2 : LDA\n",
    "\n",
    "On suppose qu'il y a des thèmes influencant le marché\n",
    "On considère maintenant que toutes les news de la journée sont aggrégées.\n",
    "\n",
    "1. Construire la matrice term document à partir des 200 termes les plus fréquents mais dont la fréquence d'apparition dans les documents est inférieure à 95% (i.e si le mot apparait dans 95% des documents, on le \"jette\")\n",
    "2. A partir d'une LDA sur 10 topics, construire les poids des topics pour chaque journée\n",
    "3. Utiliser ces poids dans une régression logistique\n",
    "4. Calculer l'AUC et le sharpe ratio sur la période test"
   ]
  },
  {
   "cell_type": "code",
   "execution_count": 23,
   "id": "940937ee",
   "metadata": {},
   "outputs": [],
   "source": [
    "def row_aggregator(row):\n",
    "    return '. '.join(x[2:-1] for x in row[cols] if pd.notnull(x))\n",
    "newdf['txt_total']=newdf[cols].apply(row_aggregator,axis=1)"
   ]
  },
  {
   "cell_type": "code",
   "execution_count": 24,
   "id": "f326395c",
   "metadata": {},
   "outputs": [],
   "source": [
    "#!spacy download en_core_web_sm"
   ]
  },
  {
   "cell_type": "code",
   "execution_count": 25,
   "id": "24360a88",
   "metadata": {},
   "outputs": [],
   "source": [
    "import spacy\n",
    "nlp = spacy.load('en_core_web_sm')"
   ]
  },
  {
   "cell_type": "code",
   "execution_count": 26,
   "id": "9dd1d373",
   "metadata": {},
   "outputs": [],
   "source": [
    "#print(txt) doc.noun_chunks => chunk.text, chunk.root.text, chunk.root.head.text"
   ]
  },
  {
   "cell_type": "code",
   "execution_count": 27,
   "id": "c9eaf11b",
   "metadata": {},
   "outputs": [],
   "source": [
    "def prep_txt_lda(txt):\n",
    "\n",
    "    doc = nlp(txt)\n",
    "    tokens = [token.lemma_ for token in doc if not token.is_stop and not token.is_punct]\n",
    "    txt = ' '.join(tokens)    \n",
    "    return txt"
   ]
  },
  {
   "cell_type": "code",
   "execution_count": 28,
   "id": "2e0182d4",
   "metadata": {},
   "outputs": [],
   "source": [
    "try:\n",
    "    from sklearn.decomposition import LatentDirichletAllocation as LDA\n",
    "except:\n",
    "    from sklearn.lda import LDA"
   ]
  },
  {
   "cell_type": "code",
   "execution_count": 29,
   "id": "aa58c977",
   "metadata": {},
   "outputs": [],
   "source": [
    "from sklearn.feature_extraction.text import CountVectorizer, TfidfVectorizer"
   ]
  },
  {
   "cell_type": "code",
   "execution_count": 32,
   "metadata": {},
   "outputs": [
    {
     "name": "stderr",
     "output_type": "stream",
     "text": [
      "100%|██████████| 1985/1985 [03:08<00:00, 10.51it/s]\n"
     ]
    }
   ],
   "source": [
    "from tqdm import tqdm\n",
    "cnt = CountVectorizer(max_features=200, max_df=0.95)\n",
    "\n",
    "\n",
    "clean_txt = [prep_txt_lda(txt) for txt in tqdm(newdf['txt_total'])]\n",
    "newdf['clean_lda_txt']=clean_txt\n",
    "dtm = cnt.fit_transform(newdf['clean_lda_txt'])"
   ]
  },
  {
   "cell_type": "code",
   "execution_count": null,
   "id": "2ca1c9e4",
   "metadata": {},
   "outputs": [],
   "source": [
    "from __future__ import print_function\n",
    "import pyLDAvis\n",
    "import pyLDAvis.lda_model\n",
    "pyLDAvis.lda_model.prepare\n",
    "\n",
    "pyLDAvis.enable_notebook()"
   ]
  },
  {
   "cell_type": "code",
   "execution_count": 73,
   "id": "8056d496",
   "metadata": {},
   "outputs": [],
   "source": [
    "# Préparation de la visualisation\n",
    "#panel = pyLDAvis.prepare(lda, dtm, cnt, mds='tsne')\n",
    "#panel\n",
    "### marche pas"
   ]
  },
  {
   "cell_type": "code",
   "execution_count": 41,
   "metadata": {},
   "outputs": [],
   "source": [
    "from sklearn.decomposition import LatentDirichletAllocation\n",
    "\n",
    "lda = LatentDirichletAllocation(n_components=10, random_state=0)\n",
    "lda.fit(dtm)\n",
    "topic_weights = lda.transform(dtm)\n"
   ]
  },
  {
   "cell_type": "code",
   "execution_count": 40,
   "metadata": {},
   "outputs": [
    {
     "data": {
      "text/html": [
       "\n",
       "<link rel=\"stylesheet\" type=\"text/css\" href=\"https://cdn.jsdelivr.net/gh/bmabey/pyLDAvis@3.4.0/pyLDAvis/js/ldavis.v1.0.0.css\">\n",
       "\n",
       "\n",
       "<div id=\"ldavis_el1162425020783635686177365967\" style=\"background-color:white;\"></div>\n",
       "<script type=\"text/javascript\">\n",
       "\n",
       "var ldavis_el1162425020783635686177365967_data = {\"mdsDat\": {\"x\": [-27.43980598449707, 9.84860610961914, 47.240238189697266, 37.87725067138672, 13.204010009765625, -23.156993865966797, 17.10177993774414, -13.567233085632324, -44.648563385009766, 2.9149460792541504], \"y\": [-23.45616912841797, -41.40024185180664, 24.028451919555664, -13.511818885803223, 48.20497512817383, 45.12531661987305, 16.063953399658203, 14.882598876953125, 9.04089641571045, -11.099068641662598], \"topics\": [1, 2, 3, 4, 5, 6, 7, 8, 9, 10], \"cluster\": [1, 1, 1, 1, 1, 1, 1, 1, 1, 1], \"Freq\": [17.932577230931138, 11.117754472371823, 10.889953455196453, 10.189625570811794, 10.015866682335606, 9.57540306532414, 8.698759049736998, 8.008893758759243, 7.182574609781576, 6.388592104751218]}, \"tinfo\": {\"Term\": [\"korea\", \"israel\", \"gaza\", \"north\", \"israeli\", \"russia\", \"russian\", \"protest\", \"south\", \"protester\", \"nuclear\", \"iran\", \"amp\", \"ssia\", \"syria\", \"year\", \"police\", \"old\", \"rape\", \"afghanistan\", \"war\", \"drug\", \"bank\", \"islamic\", \"military\", \"minister\", \"child\", \"palestinian\", \"000\", \"news\", \"eu\", \"spy\", \"amp\", \"worker\", \"water\", \"company\", \"use\", \"rule\", \"ina\", \"human\", \"syrian\", \"record\", \"rise\", \"cut\", \"open\", \"change\", \"allow\", \"national\", \"german\", \"activist\", \"right\", \"city\", \"anti\", \"public\", \"lead\", \"european\", \"global\", \"europe\", \"find\", \"court\", \"say\", \"million\", \"government\", \"new\", \"country\", \"000\", \"president\", \"law\", \"people\", \"report\", \"world\", \"year\", \"group\", \"official\", \"kill\", \"call\", \"police\", \"force\", \"islamic\", \"ssia\", \"syria\", \"russian\", \"russia\", \"weapon\", \"syrian\", \"state\", \"fight\", \"saudi\", \"warn\", \"air\", \"prime\", \"billion\", \"near\", \"minister\", \"military\", \"give\", \"call\", \"say\", \"ina\", \"strike\", \"plan\", \"send\", \"force\", \"army\", \"million\", \"spy\", \"build\", \"attack\", \"president\", \"new\", \"ban\", \"000\", \"world\", \"year\", \"find\", \"official\", \"kill\", \"time\", \"government\", \"country\", \"rape\", \"girl\", \"old\", \"woman\", \"south\", \"100\", \"murder\", \"home\", \"charge\", \"die\", \"dead\", \"man\", \"family\", \"year\", \"000\", \"record\", \"get\", \"uk\", \"find\", \"amp\", \"reveal\", \"chinese\", \"jail\", \"live\", \"bad\", \"life\", \"run\", \"japan\", \"face\", \"work\", \"china\", \"police\", \"kill\", \"new\", \"people\", \"death\", \"attack\", \"war\", \"world\", \"day\", \"million\", \"country\", \"say\", \"government\", \"internet\", \"sentence\", \"vote\", \"parliament\", \"bank\", \"gay\", \"prison\", \"party\", \"protest\", \"life\", \"law\", \"thousand\", \"release\", \"get\", \"anti\", \"secret\", \"germany\", \"ban\", \"european\", \"turn\", \"go\", \"lose\", \"europe\", \"west\", \"video\", \"man\", \"arrest\", \"support\", \"jail\", \"chinese\", \"police\", \"government\", \"new\", \"world\", \"right\", \"year\", \"china\", \"call\", \"country\", \"state\", \"say\", \"people\", \"woman\", \"take\", \"million\", \"abuse\", \"jail\", \"child\", \"sentence\", \"prison\", \"school\", \"afghanistan\", \"french\", \"sex\", \"old\", \"pakistan\", \"case\", \"crisis\", \"show\", \"girl\", \"year\", \"germany\", \"murder\", \"british\", \"video\", \"canada\", \"month\", \"pay\", \"india\", \"face\", \"court\", \"try\", \"time\", \"10\", \"want\", \"death\", \"kill\", \"woman\", \"man\", \"war\", \"bank\", \"people\", \"world\", \"say\", \"country\", \"find\", \"attack\", \"new\", \"force\", \"ban\", \"prime\", \"news\", \"al\", \"election\", \"minister\", \"pakistan\", \"japan\", \"iran\", \"uk\", \"nuclear\", \"video\", \"big\", \"british\", \"know\", \"party\", \"bomb\", \"protester\", \"french\", \"american\", \"foreign\", \"german\", \"strike\", \"afghanistan\", \"plan\", \"worker\", \"demand\", \"official\", \"stop\", \"military\", \"tell\", \"attack\", \"president\", \"force\", \"government\", \"china\", \"world\", \"police\", \"say\", \"country\", \"war\", \"new\", \"kill\", \"protest\", \"year\", \"protester\", \"protest\", \"drug\", \"thousand\", \"fire\", \"iran\", \"police\", \"saudi\", \"shoot\", \"open\", \"week\", \"security\", \"election\", \"japan\", \"amp\", \"power\", \"arrest\", \"threaten\", \"death\", \"support\", \"india\", \"nuclear\", \"force\", \"leader\", \"try\", \"food\", \"people\", \"kill\", \"syrian\", \"day\", \"billion\", \"man\", \"woman\", \"000\", \"year\", \"say\", \"government\", \"china\", \"old\", \"report\", \"world\", \"gaza\", \"israel\", \"israeli\", \"palestinian\", \"soldier\", \"war\", \"crime\", \"un\", \"iran\", \"like\", \"west\", \"weapon\", \"afghanistan\", \"murder\", \"stop\", \"pakistan\", \"run\", \"child\", \"dead\", \"family\", \"shoot\", \"school\", \"army\", \"united\", \"fire\", \"video\", \"american\", \"die\", \"tell\", \"build\", \"attack\", \"human\", \"kill\", \"people\", \"right\", \"country\", \"say\", \"world\", \"death\", \"000\", \"government\", \"year\", \"new\", \"man\", \"state\", \"border\", \"troop\", \"russia\", \"iraq\", \"afghanistan\", \"crisis\", \"land\", \"russian\", \"military\", \"bank\", \"west\", \"oil\", \"palestinian\", \"soldier\", \"army\", \"set\", \"build\", \"south\", \"send\", \"000\", \"chinese\", \"fire\", \"report\", \"food\", \"european\", \"hold\", \"saudi\", \"war\", \"un\", \"official\", \"israel\", \"say\", \"kill\", \"china\", \"drug\", \"israeli\", \"state\", \"uk\", \"world\", \"government\", \"attack\", \"korea\", \"north\", \"south\", \"launch\", \"nuclear\", \"vote\", \"un\", \"company\", \"turn\", \"strike\", \"near\", \"ina\", \"threaten\", \"border\", \"oil\", \"parliament\", \"party\", \"weapon\", \"global\", \"fire\", \"water\", \"plan\", \"american\", \"china\", \"eu\", \"warn\", \"international\", \"send\", \"large\", \"official\", \"new\", \"news\", \"find\", \"say\", \"military\", \"country\", \"world\", \"amp\", \"kill\", \"state\", \"year\", \"ban\", \"government\", \"force\", \"attack\"], \"Freq\": [1089.0, 1657.0, 807.0, 832.0, 1078.0, 1050.0, 910.0, 1114.0, 733.0, 532.0, 971.0, 941.0, 988.0, 538.0, 619.0, 3056.0, 1767.0, 980.0, 553.0, 494.0, 1539.0, 928.0, 931.0, 505.0, 1098.0, 1078.0, 1134.0, 598.0, 1583.0, 811.0, 229.7763269685151, 203.66952882680417, 410.5749785734716, 199.40890876404075, 250.24076675962982, 217.04685467454746, 252.30120545423344, 218.88266727647323, 255.8378351308893, 315.1016365735362, 151.55874153704107, 155.95249527419696, 142.7707235091767, 156.76694257326187, 137.84762109103963, 175.28933827883196, 176.78195051593474, 137.05508752845282, 175.77904988896194, 131.6626519110641, 365.7763710894559, 229.40105566759655, 230.6156999041881, 167.3060534678271, 155.46065860506886, 159.45959865715045, 168.93910011380063, 160.37596102496704, 428.42512305942347, 284.6394123483922, 962.0805025350918, 304.50858556266115, 556.22951162389, 537.6076842635082, 402.385265498826, 377.5850073530524, 324.2164735142444, 276.3399407299915, 386.40148028453865, 287.6350697754743, 409.2881645714726, 462.913089836611, 211.52065935197626, 235.7397936523811, 330.03076362505163, 233.30001795240034, 219.26892174249232, 213.29927687215647, 326.0118252720571, 341.7213067424698, 353.9991070599719, 467.9734644111873, 400.34910678590944, 156.08586713312786, 157.15777593549214, 406.1305898492777, 137.6763742832386, 113.93995384158045, 160.97249199587566, 111.65558333561289, 120.06414232443127, 148.37163399038835, 92.90122914450795, 230.94089664435964, 235.22225000789615, 107.73961159501074, 215.20169778518152, 739.0279975152287, 134.31400995752162, 130.52543314407052, 184.0638572285655, 98.30075976971374, 238.13725737301905, 101.36771083391908, 194.85804944519037, 82.3834158454524, 76.68720927282718, 262.92702334109333, 206.62231950395912, 315.2932116453957, 188.28887047765295, 210.156649042803, 261.48347880478656, 305.9295885131335, 192.05880109437493, 152.97487220655972, 204.40166807838906, 150.6217036153607, 170.04030664712576, 157.38326894774121, 310.1531199669749, 207.2688992632589, 353.18341332669803, 348.65463530162043, 187.15142730608602, 111.61598157583201, 107.24985460314981, 137.35255259991655, 143.38140709084632, 163.25300475946713, 150.22032133703968, 313.3850274521285, 96.22852212103729, 638.1967549496281, 330.5661528381389, 95.14725380232309, 108.2474065375181, 207.6759826583842, 306.24989071988915, 196.45934581400175, 113.03572056637768, 140.9692096708665, 109.30629541294091, 98.2210095128955, 81.36107580023088, 105.8242469216708, 94.9477163145936, 77.8609017028656, 146.03818385600283, 102.77837601323367, 226.48210534631832, 263.1776451543409, 325.159737575258, 288.0972591644096, 241.31640544588905, 165.0971938197392, 205.79457034831205, 200.09394222968314, 235.9879243506313, 142.04746576850906, 144.1606630261838, 161.50971427512877, 194.2364691520665, 167.85550199118944, 257.36780942769343, 156.18053797858414, 158.58601414265542, 123.10160400811543, 261.1954136990695, 126.45958985982497, 113.52357864978718, 139.97961963629191, 279.36659648452866, 141.26923426178024, 271.6362024373546, 110.89389058207267, 117.92488335933947, 123.28329756020877, 170.72179927581098, 107.10010967328193, 108.65337481479764, 276.810519668639, 108.91762147349672, 95.63731463751276, 120.53022756533754, 87.30769770947025, 103.48304325245782, 89.97086180789537, 97.20071959103004, 268.5750343238377, 170.2055618858643, 78.36002848797979, 96.07425451042043, 122.5295771811958, 289.91324018862275, 348.82283405380736, 354.1058516160657, 314.06586058008673, 177.08627676713112, 334.2881667975069, 184.56896685090075, 158.11292754325405, 204.84575329797616, 180.76514981511366, 293.78051451687895, 186.55324913526863, 145.94631638517095, 126.40086109292807, 123.54486262798633, 235.41031332982288, 216.58451954094463, 377.655415756343, 142.71854264713218, 135.43658866230726, 136.2417467587726, 132.9440823470918, 122.16598527387836, 135.27752526922333, 238.26600969159537, 132.20261616123787, 124.91719359819037, 111.02551843432497, 109.0399711902409, 125.08809840732191, 671.4807770136227, 104.22224082574782, 93.52778864261337, 140.5914919374191, 107.89063094645157, 97.84426415218503, 129.6409437410925, 139.13297862065352, 112.33597025567632, 154.1942287568803, 186.64185561085296, 114.31789348209621, 183.0995728796487, 101.45870324995484, 147.0602771542208, 167.9304738491553, 275.2168998293747, 185.2228400181959, 189.94610813745012, 190.7557927189512, 144.19927664784757, 196.90190999409933, 189.87631043302505, 208.10002727173458, 162.43914658293792, 150.29997108741867, 149.56366623213347, 141.9992092306844, 135.4133874602243, 134.2104888655531, 212.45502124149556, 293.66757450904197, 193.22892078017387, 138.6917842071693, 332.5564389054075, 164.41267385921037, 122.7166525780901, 257.2895620812038, 275.60517455643713, 248.44386516338815, 129.82100340445595, 149.92000917296082, 166.43947692227263, 126.73709222881877, 127.18828365015328, 116.03893212386996, 116.34639743135747, 96.42959480459733, 103.80683843980455, 86.24212863254036, 104.55353664033234, 125.59230802237036, 91.15517263837, 173.12325032428706, 85.02331126633435, 76.16280897337266, 167.74231185095016, 94.86331775203243, 180.9066210212993, 109.763142304694, 246.35881052606243, 200.2998846451465, 188.44259661409555, 272.9680129102105, 186.22442474955957, 252.62071868818813, 217.96209906364012, 299.9860892347415, 189.17141362608115, 162.51205712616257, 167.59358114123287, 165.05820177110965, 133.12705660403168, 139.7877461564275, 292.8266817052399, 385.25497077702613, 313.69983987307063, 127.38512432352422, 210.33628475668752, 240.0069228374777, 441.8438535694195, 122.4101465488064, 130.89295884532365, 91.47549944340221, 103.0539946960978, 123.75317796700935, 90.04364517656606, 88.37351604564283, 188.73754970828497, 126.8700182356164, 167.73902275009988, 93.85984797793618, 180.23156651210627, 74.13006350062761, 93.21594304499888, 153.9169640356419, 203.09057543887678, 135.10183622163467, 92.8111973997929, 63.94028261738443, 261.05203354213035, 318.4356252779182, 59.37559447493798, 123.94250390838295, 90.36139906029018, 194.16826092758404, 145.91605984218384, 170.3868626561772, 231.3633915452402, 253.09780461970067, 186.71796933228543, 132.18788963445647, 113.76268857476875, 109.14672334871962, 112.22712887260899, 775.0675669829276, 1086.607471085217, 689.6877658588437, 206.23130963414502, 139.63875613079782, 349.25260508893916, 116.79309740644008, 163.0824622268799, 190.05383927844278, 91.23166787522104, 73.60394640658066, 65.0875371752516, 73.89188076031881, 65.89866970521133, 82.49962321022464, 75.48123199844494, 69.21035269968131, 153.71924264189707, 91.36464791727107, 59.79207017137085, 69.06405150642608, 59.29469366644658, 69.76603157682825, 60.67832240505529, 95.43118916880555, 60.354254563346615, 59.292550381010614, 81.7030469463423, 74.89342000771832, 49.61378656012851, 170.24450106499916, 94.66726267092939, 202.63751097259936, 145.89618870462516, 107.51774530497968, 123.97928699300508, 190.88066937931865, 138.1441646724658, 92.39233621039651, 101.11818092130102, 111.27320751685325, 119.05260842748294, 109.00007172765464, 93.71620259895573, 90.53726128307075, 166.76989439495148, 171.33136575233948, 350.72506672524247, 178.20241964621988, 157.88848167654075, 125.44994819520883, 104.9262600373673, 199.42321533001783, 219.97654088768613, 178.96829945804157, 90.57875898779176, 155.62673703161153, 99.6641245294217, 92.38557324674228, 91.32438119726878, 84.96848321626476, 66.20791787590896, 106.74637608486002, 77.0141780156504, 216.46256427434912, 97.85167923890315, 107.98425757878614, 162.5651650884782, 56.628802443678964, 70.37919518168312, 64.97225776758313, 61.25438376756325, 188.56466756430623, 96.4430749909195, 118.95579267707751, 187.3887359091748, 381.93884089996504, 238.75059193877212, 144.2851103736219, 107.61945809904198, 116.14976738956156, 129.9827951280534, 108.3782121867864, 142.7736516883177, 133.2312778904278, 113.05665607650006, 915.006564272899, 623.2399816540153, 266.15349176165546, 101.03620920421257, 221.29171575063936, 72.00339262860165, 114.50066041192727, 78.6993333559724, 64.89977341278406, 90.88503095733641, 54.666173659355586, 89.96001880368264, 66.81965928004986, 53.51969461690396, 98.61986417980005, 49.55041410428061, 63.27890237564188, 46.49480461422882, 59.95576736096073, 83.2454994704203, 65.51190349808284, 100.9161301049218, 52.73586085021796, 132.73665402071563, 53.07432561645042, 67.94178204207495, 62.82036624836891, 48.97031141714594, 51.157687689187945, 90.47803074398283, 193.5736825747322, 71.8831634501923, 122.56274139535266, 221.63828663118025, 87.81546347587894, 114.66228143219469, 126.58257581220782, 78.10380661085101, 108.4815576331712, 85.29973737214104, 106.57093757319724, 79.96371279664702, 83.98406960218466, 71.39961704115014, 68.2055059881205], \"Total\": [1089.0, 1657.0, 807.0, 832.0, 1078.0, 1050.0, 910.0, 1114.0, 733.0, 532.0, 971.0, 941.0, 988.0, 538.0, 619.0, 3056.0, 1767.0, 980.0, 553.0, 494.0, 1539.0, 928.0, 931.0, 505.0, 1098.0, 1078.0, 1134.0, 598.0, 1583.0, 811.0, 530.5309288985682, 475.57074077673957, 988.836702699432, 491.94942639467865, 628.0912726206727, 568.5960312304405, 665.4947880354515, 593.0263884958715, 698.5371408399695, 861.1006012685568, 434.1126622689834, 455.9602824540487, 419.1091768824921, 468.83040286751645, 424.8920815697785, 541.7596985781635, 549.4235936611412, 432.8784694481455, 556.6450740961744, 424.48564053959126, 1184.4758220831366, 744.0239585695044, 756.5833143758462, 552.8491533793389, 519.2897912252673, 536.6354627020987, 569.2852315273504, 547.331977775563, 1523.335951616305, 1012.9707144299348, 3744.7672017559066, 1091.45817988543, 2145.4688361091294, 2291.1649309150257, 1641.0783709713025, 1583.8199094092784, 1341.403032253017, 1093.0766077173087, 1820.6951348974007, 1226.3765949639624, 2183.049978473791, 3056.9224697550253, 794.6624606016593, 1005.3956099746589, 2284.9891072055416, 1073.9710023600646, 1767.6098177590798, 1290.6587378709607, 505.7664231106986, 538.7540581058526, 619.3003995918929, 910.9076788301602, 1050.338416754046, 428.80492833073583, 434.1126622689834, 1349.4670363094428, 553.8037297336822, 489.81462320806077, 695.8063426177412, 484.3745282119652, 523.3363637374049, 667.5374471197938, 419.0695909825218, 1078.0490372730828, 1098.4100767859147, 514.9221210876426, 1073.9710023600646, 3744.7672017559066, 698.5371408399695, 678.9897478115007, 989.0311374633694, 529.8667561941196, 1290.6587378709607, 566.1770897418086, 1091.45817988543, 475.57074077673957, 448.2619149294204, 1544.9483549266167, 1341.403032253017, 2291.1649309150257, 1263.017953416797, 1583.8199094092784, 2183.049978473791, 3056.9224697550253, 1523.335951616305, 1005.3956099746589, 2284.9891072055416, 1012.982356141587, 2145.4688361091294, 1641.0783709713025, 553.8165133950812, 549.3376493557879, 980.7282514975932, 1274.7974391667728, 733.4518775940605, 451.1828901424627, 443.17140073976464, 573.4566839977501, 622.3720873301338, 728.7975385223835, 674.6430575438239, 1469.2058637745363, 455.58258127047685, 3056.9224697550253, 1583.8199094092784, 455.9602824540487, 522.5537775077853, 1031.9345339893312, 1523.335951616305, 988.836702699432, 572.8286068815878, 717.524994881532, 561.2983517816232, 509.9626394266915, 425.2634945748377, 565.4363215933915, 508.59751833967675, 436.22861351617576, 818.2455107301209, 586.5338009162597, 1322.2578637047711, 1767.6098177590798, 2284.9891072055416, 2291.1649309150257, 1820.6951348974007, 1093.7813044510326, 1544.9483549266167, 1539.1059091177485, 2183.049978473791, 909.0198350424585, 1091.45817988543, 1641.0783709713025, 3744.7672017559066, 2145.4688361091294, 636.3898258870607, 454.22803728033136, 470.0992881910136, 421.21319289023756, 931.7414626118341, 454.1870913567673, 440.53960143648106, 556.9525406377979, 1114.5546942860394, 565.4363215933915, 1093.0766077173087, 448.3079825346919, 488.5899680656609, 522.5537775077853, 756.5833143758462, 481.09935691838353, 489.94731581123364, 1263.017953416797, 536.6354627020987, 479.76998704683643, 608.1460438104859, 456.6372360515317, 547.331977775563, 476.25100725066454, 517.5576872037259, 1469.2058637745363, 932.4277223618191, 455.5166827570899, 561.2983517816232, 717.524994881532, 1767.6098177590798, 2145.4688361091294, 2291.1649309150257, 2183.049978473791, 1184.4758220831366, 3056.9224697550253, 1322.2578637047711, 1073.9710023600646, 1641.0783709713025, 1349.4670363094428, 3744.7672017559066, 1820.6951348974007, 1274.7974391667728, 754.6544603567805, 1091.45817988543, 459.3249704483009, 561.2983517816232, 1134.453572212644, 454.22803728033136, 440.53960143648106, 461.9666539756906, 494.50885755479277, 467.42748845794904, 537.0611733048464, 980.7282514975932, 545.4419690644742, 515.5152141884773, 470.5272882579502, 477.49061525116895, 549.3376493557879, 3056.9224697550253, 489.94731581123364, 443.17140073976464, 669.050404701738, 517.5576872037259, 476.68678773946226, 637.4249424616372, 689.1192689455698, 580.2702558833508, 818.2455107301209, 1012.9707144299348, 620.501913928074, 1012.982356141587, 574.2329509430709, 836.1178686619212, 1093.7813044510326, 2284.9891072055416, 1274.7974391667728, 1469.2058637745363, 1539.1059091177485, 931.7414626118341, 1820.6951348974007, 2183.049978473791, 3744.7672017559066, 1641.0783709713025, 1523.335951616305, 1544.9483549266167, 2291.1649309150257, 1290.6587378709607, 1263.017953416797, 523.3363637374049, 811.9191786104761, 584.2842547407349, 443.032802385994, 1078.0490372730828, 545.4419690644742, 436.22861351617576, 941.1663194889869, 1031.9345339893312, 971.8871231279901, 517.5576872037259, 600.4102500224191, 669.050404701738, 514.9215520563811, 556.9525406377979, 515.4650939262999, 532.2025080753107, 467.42748845794904, 522.0657368769786, 449.91944673225527, 556.6450740961744, 678.9897478115007, 494.50885755479277, 989.0311374633694, 491.94942639467865, 442.9443522489281, 1005.3956099746589, 575.7696817286318, 1098.4100767859147, 671.205977061984, 1544.9483549266167, 1341.403032253017, 1290.6587378709607, 2145.4688361091294, 1322.2578637047711, 2183.049978473791, 1767.6098177590798, 3744.7672017559066, 1641.0783709713025, 1539.1059091177485, 2291.1649309150257, 2284.9891072055416, 1114.5546942860394, 3056.9224697550253, 532.2025080753107, 1114.5546942860394, 928.6538353295291, 448.3079825346919, 796.0416016780414, 941.1663194889869, 1767.6098177590798, 489.81462320806077, 531.4858604813288, 424.8920815697785, 497.4606804900481, 606.1194679892878, 443.032802385994, 436.22861351617576, 988.836702699432, 690.505546021276, 932.4277223618191, 522.4435598343464, 1093.7813044510326, 455.5166827570899, 580.2702558833508, 971.8871231279901, 1290.6587378709607, 865.6006917378866, 620.501913928074, 431.1802665985449, 1820.6951348974007, 2284.9891072055416, 434.1126622689834, 909.0198350424585, 667.5374471197938, 1469.2058637745363, 1274.7974391667728, 1583.8199094092784, 3056.9224697550253, 3744.7672017559066, 2145.4688361091294, 1322.2578637047711, 980.7282514975932, 1226.3765949639624, 2183.049978473791, 807.4033239932555, 1657.5011612339827, 1078.9628859733002, 598.9716231258972, 557.4967392615318, 1539.1059091177485, 559.3908689298064, 800.0830566679405, 941.1663194889869, 574.9535970508316, 476.25100725066454, 428.80492833073583, 494.50885755479277, 443.17140073976464, 575.7696817286318, 545.4419690644742, 508.59751833967675, 1134.453572212644, 674.6430575438239, 455.58258127047685, 531.4858604813288, 461.9666539756906, 566.1770897418086, 502.18695840607717, 796.0416016780414, 517.5576872037259, 522.0657368769786, 728.7975385223835, 671.205977061984, 448.2619149294204, 1544.9483549266167, 861.1006012685568, 2284.9891072055416, 1820.6951348974007, 1184.4758220831366, 1641.0783709713025, 3744.7672017559066, 2183.049978473791, 1093.7813044510326, 1583.8199094092784, 2145.4688361091294, 3056.9224697550253, 2291.1649309150257, 1469.2058637745363, 1349.4670363094428, 439.6851484814139, 503.8661508492939, 1050.338416754046, 556.5076442723524, 494.50885755479277, 470.5272882579502, 431.57041587019546, 910.9076788301602, 1098.4100767859147, 931.7414626118341, 476.25100725066454, 819.8851568139721, 598.9716231258972, 557.4967392615318, 566.1770897418086, 563.9826918952614, 448.2619149294204, 733.4518775940605, 529.8667561941196, 1583.8199094092784, 717.524994881532, 796.0416016780414, 1226.3765949639624, 431.1802665985449, 536.6354627020987, 515.8447808812926, 489.81462320806077, 1539.1059091177485, 800.0830566679405, 1005.3956099746589, 1657.5011612339827, 3744.7672017559066, 2284.9891072055416, 1322.2578637047711, 928.6538353295291, 1078.9628859733002, 1349.4670363094428, 1031.9345339893312, 2183.049978473791, 2145.4688361091294, 1544.9483549266167, 1089.5712149146216, 832.8596241742646, 733.4518775940605, 408.43568790536386, 971.8871231279901, 470.0992881910136, 800.0830566679405, 568.5960312304405, 479.76998704683643, 678.9897478115007, 419.0695909825218, 698.5371408399695, 522.4435598343464, 439.6851484814139, 819.8851568139721, 421.21319289023756, 556.9525406377979, 428.80492833073583, 569.2852315273504, 796.0416016780414, 628.0912726206727, 989.0311374633694, 522.0657368769786, 1322.2578637047711, 530.5309288985682, 695.8063426177412, 653.9107257254485, 529.8667561941196, 558.289325644471, 1005.3956099746589, 2291.1649309150257, 811.9191786104761, 1523.335951616305, 3744.7672017559066, 1098.4100767859147, 1641.0783709713025, 2183.049978473791, 988.836702699432, 2284.9891072055416, 1349.4670363094428, 3056.9224697550253, 1263.017953416797, 2145.4688361091294, 1290.6587378709607, 1544.9483549266167], \"Category\": [\"Default\", \"Default\", \"Default\", \"Default\", \"Default\", \"Default\", \"Default\", \"Default\", \"Default\", \"Default\", \"Default\", \"Default\", \"Default\", \"Default\", \"Default\", \"Default\", \"Default\", \"Default\", \"Default\", \"Default\", \"Default\", \"Default\", \"Default\", \"Default\", \"Default\", \"Default\", \"Default\", \"Default\", \"Default\", \"Default\", \"Topic1\", \"Topic1\", \"Topic1\", \"Topic1\", \"Topic1\", \"Topic1\", \"Topic1\", \"Topic1\", \"Topic1\", \"Topic1\", \"Topic1\", \"Topic1\", \"Topic1\", \"Topic1\", \"Topic1\", \"Topic1\", \"Topic1\", \"Topic1\", \"Topic1\", \"Topic1\", \"Topic1\", \"Topic1\", \"Topic1\", \"Topic1\", \"Topic1\", \"Topic1\", \"Topic1\", \"Topic1\", \"Topic1\", \"Topic1\", \"Topic1\", \"Topic1\", \"Topic1\", \"Topic1\", \"Topic1\", \"Topic1\", \"Topic1\", \"Topic1\", \"Topic1\", \"Topic1\", \"Topic1\", \"Topic1\", \"Topic1\", \"Topic1\", \"Topic1\", \"Topic1\", \"Topic1\", \"Topic1\", \"Topic2\", \"Topic2\", \"Topic2\", \"Topic2\", \"Topic2\", \"Topic2\", \"Topic2\", \"Topic2\", \"Topic2\", \"Topic2\", \"Topic2\", \"Topic2\", \"Topic2\", \"Topic2\", \"Topic2\", \"Topic2\", \"Topic2\", \"Topic2\", \"Topic2\", \"Topic2\", \"Topic2\", \"Topic2\", \"Topic2\", \"Topic2\", \"Topic2\", \"Topic2\", \"Topic2\", \"Topic2\", \"Topic2\", \"Topic2\", \"Topic2\", \"Topic2\", \"Topic2\", \"Topic2\", \"Topic2\", \"Topic2\", \"Topic2\", \"Topic2\", \"Topic2\", \"Topic2\", \"Topic2\", \"Topic2\", \"Topic3\", \"Topic3\", \"Topic3\", \"Topic3\", \"Topic3\", \"Topic3\", \"Topic3\", \"Topic3\", \"Topic3\", \"Topic3\", \"Topic3\", \"Topic3\", \"Topic3\", \"Topic3\", \"Topic3\", \"Topic3\", \"Topic3\", \"Topic3\", \"Topic3\", \"Topic3\", \"Topic3\", \"Topic3\", \"Topic3\", \"Topic3\", \"Topic3\", \"Topic3\", \"Topic3\", \"Topic3\", \"Topic3\", \"Topic3\", \"Topic3\", \"Topic3\", \"Topic3\", \"Topic3\", \"Topic3\", \"Topic3\", \"Topic3\", \"Topic3\", \"Topic3\", \"Topic3\", \"Topic3\", \"Topic3\", \"Topic3\", \"Topic3\", \"Topic4\", \"Topic4\", \"Topic4\", \"Topic4\", \"Topic4\", \"Topic4\", \"Topic4\", \"Topic4\", \"Topic4\", \"Topic4\", \"Topic4\", \"Topic4\", \"Topic4\", \"Topic4\", \"Topic4\", \"Topic4\", \"Topic4\", \"Topic4\", \"Topic4\", \"Topic4\", \"Topic4\", \"Topic4\", \"Topic4\", \"Topic4\", \"Topic4\", \"Topic4\", \"Topic4\", \"Topic4\", \"Topic4\", \"Topic4\", \"Topic4\", \"Topic4\", \"Topic4\", \"Topic4\", \"Topic4\", \"Topic4\", \"Topic4\", \"Topic4\", \"Topic4\", \"Topic4\", \"Topic4\", \"Topic4\", \"Topic4\", \"Topic4\", \"Topic4\", \"Topic5\", \"Topic5\", \"Topic5\", \"Topic5\", \"Topic5\", \"Topic5\", \"Topic5\", \"Topic5\", \"Topic5\", \"Topic5\", \"Topic5\", \"Topic5\", \"Topic5\", \"Topic5\", \"Topic5\", \"Topic5\", \"Topic5\", \"Topic5\", \"Topic5\", \"Topic5\", \"Topic5\", \"Topic5\", \"Topic5\", \"Topic5\", \"Topic5\", \"Topic5\", \"Topic5\", \"Topic5\", \"Topic5\", \"Topic5\", \"Topic5\", \"Topic5\", \"Topic5\", \"Topic5\", \"Topic5\", \"Topic5\", \"Topic5\", \"Topic5\", \"Topic5\", \"Topic5\", \"Topic5\", \"Topic5\", \"Topic5\", \"Topic5\", \"Topic5\", \"Topic6\", \"Topic6\", \"Topic6\", \"Topic6\", \"Topic6\", \"Topic6\", \"Topic6\", \"Topic6\", \"Topic6\", \"Topic6\", \"Topic6\", \"Topic6\", \"Topic6\", \"Topic6\", \"Topic6\", \"Topic6\", \"Topic6\", \"Topic6\", \"Topic6\", \"Topic6\", \"Topic6\", \"Topic6\", \"Topic6\", \"Topic6\", \"Topic6\", \"Topic6\", \"Topic6\", \"Topic6\", \"Topic6\", \"Topic6\", \"Topic6\", \"Topic6\", \"Topic6\", \"Topic6\", \"Topic6\", \"Topic6\", \"Topic6\", \"Topic6\", \"Topic6\", \"Topic6\", \"Topic6\", \"Topic6\", \"Topic6\", \"Topic6\", \"Topic7\", \"Topic7\", \"Topic7\", \"Topic7\", \"Topic7\", \"Topic7\", \"Topic7\", \"Topic7\", \"Topic7\", \"Topic7\", \"Topic7\", \"Topic7\", \"Topic7\", \"Topic7\", \"Topic7\", \"Topic7\", \"Topic7\", \"Topic7\", \"Topic7\", \"Topic7\", \"Topic7\", \"Topic7\", \"Topic7\", \"Topic7\", \"Topic7\", \"Topic7\", \"Topic7\", \"Topic7\", \"Topic7\", \"Topic7\", \"Topic7\", \"Topic7\", \"Topic7\", \"Topic7\", \"Topic7\", \"Topic7\", \"Topic7\", \"Topic7\", \"Topic7\", \"Topic7\", \"Topic7\", \"Topic8\", \"Topic8\", \"Topic8\", \"Topic8\", \"Topic8\", \"Topic8\", \"Topic8\", \"Topic8\", \"Topic8\", \"Topic8\", \"Topic8\", \"Topic8\", \"Topic8\", \"Topic8\", \"Topic8\", \"Topic8\", \"Topic8\", \"Topic8\", \"Topic8\", \"Topic8\", \"Topic8\", \"Topic8\", \"Topic8\", \"Topic8\", \"Topic8\", \"Topic8\", \"Topic8\", \"Topic8\", \"Topic8\", \"Topic8\", \"Topic8\", \"Topic8\", \"Topic8\", \"Topic8\", \"Topic8\", \"Topic8\", \"Topic8\", \"Topic8\", \"Topic8\", \"Topic8\", \"Topic8\", \"Topic8\", \"Topic8\", \"Topic8\", \"Topic8\", \"Topic9\", \"Topic9\", \"Topic9\", \"Topic9\", \"Topic9\", \"Topic9\", \"Topic9\", \"Topic9\", \"Topic9\", \"Topic9\", \"Topic9\", \"Topic9\", \"Topic9\", \"Topic9\", \"Topic9\", \"Topic9\", \"Topic9\", \"Topic9\", \"Topic9\", \"Topic9\", \"Topic9\", \"Topic9\", \"Topic9\", \"Topic9\", \"Topic9\", \"Topic9\", \"Topic9\", \"Topic9\", \"Topic9\", \"Topic9\", \"Topic9\", \"Topic9\", \"Topic9\", \"Topic9\", \"Topic9\", \"Topic9\", \"Topic9\", \"Topic9\", \"Topic9\", \"Topic9\", \"Topic9\", \"Topic10\", \"Topic10\", \"Topic10\", \"Topic10\", \"Topic10\", \"Topic10\", \"Topic10\", \"Topic10\", \"Topic10\", \"Topic10\", \"Topic10\", \"Topic10\", \"Topic10\", \"Topic10\", \"Topic10\", \"Topic10\", \"Topic10\", \"Topic10\", \"Topic10\", \"Topic10\", \"Topic10\", \"Topic10\", \"Topic10\", \"Topic10\", \"Topic10\", \"Topic10\", \"Topic10\", \"Topic10\", \"Topic10\", \"Topic10\", \"Topic10\", \"Topic10\", \"Topic10\", \"Topic10\", \"Topic10\", \"Topic10\", \"Topic10\", \"Topic10\", \"Topic10\", \"Topic10\", \"Topic10\", \"Topic10\", \"Topic10\", \"Topic10\", \"Topic10\"], \"logprob\": [30.0, 29.0, 28.0, 27.0, 26.0, 25.0, 24.0, 23.0, 22.0, 21.0, 20.0, 19.0, 18.0, 17.0, 16.0, 15.0, 14.0, 13.0, 12.0, 11.0, 10.0, 9.0, 8.0, 7.0, 6.0, 5.0, 4.0, 3.0, 2.0, 1.0, -4.7732, -4.8938, -4.1927, -4.9149, -4.6879, -4.8302, -4.6797, -4.8218, -4.6658, -4.4574, -5.1893, -5.1607, -5.2491, -5.1555, -5.2841, -5.0439, -5.0354, -5.2899, -5.0411, -5.3301, -4.3083, -4.7748, -4.7695, -5.0905, -5.1639, -5.1385, -5.0808, -5.1328, -4.1502, -4.5591, -3.3412, -4.4916, -3.8891, -3.9232, -4.2129, -4.2765, -4.4289, -4.5887, -4.2534, -4.5486, -4.1959, -4.0728, -4.856, -4.7476, -4.4111, -4.758, -4.82, -4.8476, -3.9453, -3.8982, -3.8629, -3.5838, -3.7399, -4.6818, -4.675, -3.7255, -4.8073, -4.9966, -4.651, -5.0168, -4.9442, -4.7325, -5.2007, -4.2901, -4.2717, -5.0525, -4.3606, -3.1269, -4.832, -4.8607, -4.5169, -5.1442, -4.2594, -5.1135, -4.46, -5.3208, -5.3925, -4.1603, -4.4013, -3.9787, -4.4942, -4.3844, -4.1659, -4.0089, -4.4744, -4.7019, -4.4121, -4.7175, -4.5962, -4.6735, -3.9745, -4.3775, -3.8445, -3.8574, -4.4796, -4.9965, -5.0364, -4.789, -4.746, -4.6162, -4.6994, -3.9641, -5.1448, -3.2529, -3.9107, -5.1561, -5.0271, -4.3755, -3.9871, -4.4311, -4.9838, -4.763, -5.0174, -5.1243, -5.3126, -5.0497, -5.1582, -5.3566, -4.7277, -5.0789, -4.2889, -4.1387, -3.9272, -4.0482, -4.2254, -4.605, -4.3846, -4.4127, -4.2477, -4.7554, -4.7406, -4.627, -4.4424, -4.5884, -4.0945, -4.594, -4.5788, -4.832, -4.0798, -4.8051, -4.913, -4.7036, -4.0125, -4.6944, -4.0406, -4.9365, -4.875, -4.8306, -4.505, -4.9713, -4.9569, -4.0217, -4.9545, -5.0845, -4.8531, -5.1756, -5.0056, -5.1456, -5.0683, -4.0519, -4.508, -5.2837, -5.0799, -4.8367, -3.9755, -3.7905, -3.7755, -3.8954, -4.4684, -3.833, -4.427, -4.5817, -4.3228, -4.4479, -3.9622, -4.4163, -4.6618, -4.8056, -4.8284, -4.1665, -4.2499, -3.6939, -4.667, -4.7193, -4.7134, -4.7379, -4.8225, -4.7205, -4.1545, -4.7435, -4.8002, -4.9181, -4.9361, -4.7988, -3.1184, -4.9813, -5.0896, -4.682, -4.9467, -5.0445, -4.7631, -4.6924, -4.9064, -4.5896, -4.3987, -4.8889, -4.4178, -5.0082, -4.637, -4.5043, -4.0103, -4.4063, -4.3811, -4.3769, -4.6567, -4.3451, -4.3815, -4.2898, -4.5375, -4.6152, -4.6201, -4.672, -4.7195, -4.7284, -4.2241, -3.9004, -4.319, -4.6506, -3.7761, -4.4805, -4.773, -4.0327, -3.9639, -4.0677, -4.7167, -4.5728, -4.4682, -4.7408, -4.7372, -4.829, -4.8263, -5.0141, -4.9403, -5.1257, -4.9332, -4.7498, -5.0703, -4.4289, -5.14, -5.25, -4.4604, -5.0304, -4.3849, -4.8846, -4.0761, -4.2831, -4.3441, -3.9735, -4.3559, -4.051, -4.1986, -3.8791, -4.3402, -4.4921, -4.4613, -4.4766, -4.6916, -4.6428, -3.8073, -3.533, -3.7384, -4.6396, -4.1382, -4.0062, -3.3959, -4.6795, -4.6125, -4.9708, -4.8516, -4.6686, -4.9866, -5.0053, -4.2465, -4.6437, -4.3644, -4.9451, -4.2926, -5.181, -4.9519, -4.4504, -4.1732, -4.5808, -4.9563, -5.3289, -3.9221, -3.7234, -5.403, -4.667, -4.983, -4.2181, -4.5038, -4.3488, -4.0429, -3.9531, -4.2573, -4.6026, -4.7527, -4.7942, -4.7663, -2.7513, -2.4134, -2.868, -4.0752, -4.4652, -3.5484, -4.6438, -4.31, -4.1569, -4.8908, -5.1055, -5.2285, -5.1016, -5.2161, -4.9914, -5.0803, -5.1671, -4.3691, -4.8894, -5.3134, -5.1692, -5.3217, -5.1591, -5.2986, -4.8458, -5.304, -5.3217, -5.0011, -5.0882, -5.5, -4.267, -4.8539, -4.0928, -4.4213, -4.7266, -4.5841, -4.1526, -4.4759, -4.8782, -4.7879, -4.6922, -4.6247, -4.7129, -4.864, -4.8985, -4.1787, -4.1517, -3.4353, -4.1124, -4.2334, -4.4634, -4.6421, -3.9999, -3.9018, -4.1081, -4.7891, -4.2479, -4.6935, -4.7694, -4.7809, -4.8531, -5.1025, -4.6249, -4.9513, -3.9179, -4.7119, -4.6134, -4.2043, -5.2588, -5.0414, -5.1214, -5.1803, -4.0559, -4.7264, -4.5166, -4.0622, -3.3501, -3.8199, -4.3235, -4.6167, -4.5405, -4.4279, -4.6097, -4.3341, -4.4033, -4.5674, -2.3593, -2.7433, -3.5941, -4.5627, -3.7787, -4.9015, -4.4376, -4.8126, -5.0053, -4.6686, -5.1769, -4.6788, -4.9762, -5.1981, -4.5869, -5.2752, -5.0306, -5.3389, -5.0846, -4.7564, -4.996, -4.5639, -5.2129, -4.2898, -5.2065, -4.9595, -5.0379, -5.287, -5.2433, -4.6731, -3.9125, -4.9032, -4.3696, -3.7771, -4.703, -4.4362, -4.3373, -4.8202, -4.4916, -4.732, -4.5094, -4.7966, -4.7476, -4.9099, -4.9557], \"loglift\": [30.0, 29.0, 28.0, 27.0, 26.0, 25.0, 24.0, 23.0, 22.0, 21.0, 20.0, 19.0, 18.0, 17.0, 16.0, 15.0, 14.0, 13.0, 12.0, 11.0, 10.0, 9.0, 8.0, 7.0, 6.0, 5.0, 4.0, 3.0, 2.0, 1.0, 0.8818, 0.8705, 0.8396, 0.8155, 0.7983, 0.7555, 0.7486, 0.7218, 0.7141, 0.7132, 0.6662, 0.6457, 0.6417, 0.6231, 0.5929, 0.5902, 0.5846, 0.5685, 0.5659, 0.5479, 0.5435, 0.5419, 0.5305, 0.5233, 0.5125, 0.505, 0.5037, 0.491, 0.45, 0.4491, 0.3595, 0.442, 0.3686, 0.2689, 0.3129, 0.2848, 0.2985, 0.3434, 0.1685, 0.2684, 0.0445, -0.1691, 0.395, 0.2681, -0.2164, 0.1918, -0.3685, -0.0817, 1.7575, 1.7414, 1.6373, 1.5306, 1.2321, 1.186, 1.1806, 0.9958, 0.8047, 0.7383, 0.7328, 0.7292, 0.7244, 0.6928, 0.6901, 0.6559, 0.6555, 0.6323, 0.5891, 0.5738, 0.5478, 0.5476, 0.5152, 0.512, 0.5066, 0.4765, 0.4736, 0.4435, 0.431, 0.4258, 0.326, 0.2133, 0.2933, 0.1769, 0.0745, -0.1052, 0.1258, 0.3138, -0.2174, 0.2907, -0.3385, -0.1478, 1.6376, 1.2426, 1.196, 0.9209, 0.8515, 0.8205, 0.7985, 0.7882, 0.7493, 0.7212, 0.7152, 0.6723, 0.6625, 0.6508, 0.6505, 0.6503, 0.643, 0.6141, 0.6131, 0.6013, 0.5944, 0.5901, 0.5812, 0.5702, 0.5635, 0.5415, 0.539, 0.4941, 0.494, 0.4757, 0.4529, 0.3128, 0.2675, 0.1438, 0.1965, 0.3265, 0.2015, 0.1772, -0.0074, 0.3611, 0.193, -0.1012, -0.7417, -0.3307, 1.3785, 1.2162, 1.1972, 1.0537, 1.012, 1.0052, 0.9278, 0.9028, 0.9001, 0.8969, 0.8915, 0.8869, 0.8623, 0.8396, 0.795, 0.7815, 0.7777, 0.7659, 0.6891, 0.6711, 0.6653, 0.6293, 0.6182, 0.6173, 0.6115, 0.5845, 0.583, 0.5237, 0.5187, 0.5163, 0.476, 0.4673, 0.4166, 0.3449, 0.3834, 0.0706, 0.3147, 0.368, 0.2029, 0.2735, -0.2615, 0.0055, 0.1165, 0.497, 0.1051, 1.6326, 1.3487, 1.2011, 1.1433, 1.1215, 1.0799, 0.9874, 0.9591, 0.9222, 0.8861, 0.8837, 0.8835, 0.8569, 0.8242, 0.8213, 0.7853, 0.7532, 0.7453, 0.741, 0.733, 0.7175, 0.7083, 0.701, 0.659, 0.6321, 0.6095, 0.6095, 0.5904, 0.5676, 0.5631, 0.4272, 0.1844, 0.372, 0.2553, 0.213, 0.4351, 0.0767, -0.1411, -0.5891, -0.0118, -0.015, -0.034, -0.48, 0.0464, 0.0591, 1.4445, 1.329, 1.2395, 1.1846, 1.1699, 1.1468, 1.0777, 1.0491, 1.0258, 0.9819, 0.963, 0.9585, 0.9547, 0.9441, 0.8692, 0.8548, 0.8255, 0.7675, 0.7307, 0.6941, 0.6737, 0.6584, 0.655, 0.6033, 0.5905, 0.5854, 0.5553, 0.5427, 0.5423, 0.5352, 0.51, 0.4443, 0.4219, 0.2842, 0.3858, 0.1894, 0.2529, -0.1784, 0.1855, 0.0978, -0.2693, -0.2818, 0.2211, -0.7391, 1.8445, 1.3797, 1.3567, 1.1837, 1.111, 1.0755, 1.0556, 1.0553, 1.0407, 0.9062, 0.8677, 0.8532, 0.8486, 0.8454, 0.7858, 0.7477, 0.7266, 0.7253, 0.6388, 0.6264, 0.6134, 0.5992, 0.5927, 0.5846, 0.542, 0.5334, 0.4997, 0.4713, 0.4526, 0.4494, 0.4422, 0.4182, 0.2745, 0.2125, -0.1392, -0.2523, 0.0005, 0.1391, 0.2878, 0.0229, -0.526, 2.4837, 2.1024, 2.0771, 1.4584, 1.1402, 1.0415, 0.9582, 0.9342, 0.9248, 0.6837, 0.6574, 0.6393, 0.6237, 0.6188, 0.5817, 0.5469, 0.5301, 0.5258, 0.5253, 0.4939, 0.484, 0.4716, 0.4309, 0.4112, 0.4034, 0.3757, 0.3493, 0.3363, 0.3316, 0.3235, 0.3191, 0.3168, 0.1019, 0.0005, 0.1252, -0.0584, -0.4518, -0.2356, 0.0533, -0.2267, -0.4345, -0.721, -0.5208, -0.2276, -0.1771, 1.6641, 1.5548, 1.5366, 1.4948, 1.4918, 1.3116, 1.2193, 1.1145, 1.0254, 0.9837, 0.9738, 0.9718, 0.8401, 0.836, 0.809, 0.7408, 0.7209, 0.7062, 0.7049, 0.6433, 0.6412, 0.6358, 0.6128, 0.6035, 0.6021, 0.5617, 0.5545, 0.534, 0.5177, 0.4991, 0.4536, 0.3507, 0.3748, 0.4182, 0.4784, 0.4046, 0.2934, 0.3799, -0.0937, -0.1455, 0.0187, 2.576, 2.4607, 1.737, 1.3538, 1.2709, 0.8744, 0.8065, 0.7731, 0.7502, 0.7396, 0.7139, 0.701, 0.6941, 0.6446, 0.6328, 0.6105, 0.5757, 0.529, 0.4999, 0.4928, 0.4902, 0.4682, 0.4582, 0.4519, 0.4485, 0.4242, 0.408, 0.3692, 0.3607, 0.3426, 0.2795, 0.3263, 0.2306, -0.0764, 0.2243, 0.0895, -0.0969, 0.2122, -0.2969, -0.0106, -0.6057, -0.009, -0.4898, -0.144, -0.3696]}, \"token.table\": {\"Topic\": [1, 2, 3, 4, 5, 6, 7, 8, 9, 10, 1, 2, 3, 4, 5, 6, 7, 8, 9, 10, 1, 2, 3, 4, 5, 6, 7, 8, 9, 10, 1, 2, 3, 4, 5, 6, 7, 8, 9, 10, 1, 2, 3, 4, 5, 6, 7, 8, 9, 10, 3, 4, 5, 6, 7, 8, 9, 1, 2, 3, 4, 5, 6, 7, 8, 9, 10, 1, 2, 3, 4, 5, 6, 7, 8, 9, 10, 1, 2, 3, 4, 5, 6, 7, 8, 9, 10, 1, 2, 3, 4, 5, 6, 7, 8, 9, 10, 1, 2, 3, 4, 5, 7, 9, 10, 1, 2, 3, 4, 5, 6, 7, 8, 9, 10, 1, 2, 3, 4, 5, 6, 7, 8, 9, 10, 1, 2, 3, 4, 5, 6, 7, 8, 9, 10, 1, 2, 3, 4, 5, 6, 7, 8, 9, 10, 1, 2, 3, 4, 5, 6, 7, 8, 9, 10, 1, 2, 3, 4, 5, 6, 7, 8, 9, 10, 1, 2, 3, 4, 5, 6, 7, 8, 9, 10, 1, 2, 3, 4, 5, 6, 7, 8, 9, 10, 1, 2, 3, 4, 5, 6, 7, 8, 9, 10, 1, 2, 3, 4, 5, 6, 7, 8, 9, 10, 1, 2, 3, 4, 5, 6, 7, 8, 9, 10, 1, 2, 3, 4, 5, 6, 7, 8, 9, 10, 1, 2, 3, 4, 5, 6, 7, 8, 9, 10, 1, 2, 3, 4, 5, 6, 7, 8, 9, 10, 1, 2, 3, 4, 5, 6, 7, 8, 9, 10, 1, 2, 3, 4, 5, 6, 7, 8, 9, 10, 1, 2, 3, 4, 5, 6, 7, 8, 9, 10, 1, 2, 3, 4, 5, 6, 7, 8, 9, 10, 1, 2, 3, 4, 5, 6, 7, 8, 9, 10, 1, 2, 3, 4, 5, 6, 7, 8, 9, 10, 1, 2, 3, 4, 5, 6, 7, 8, 9, 10, 1, 2, 3, 4, 5, 6, 7, 8, 9, 10, 1, 2, 3, 4, 5, 6, 7, 8, 9, 10, 1, 2, 3, 4, 5, 6, 7, 8, 9, 10, 1, 2, 3, 4, 5, 6, 7, 8, 9, 10, 1, 2, 3, 4, 5, 6, 7, 8, 9, 10, 1, 2, 3, 4, 5, 6, 7, 8, 9, 10, 1, 2, 3, 4, 5, 6, 7, 8, 9, 10, 1, 2, 3, 4, 5, 6, 7, 8, 9, 10, 1, 2, 3, 4, 5, 6, 7, 8, 9, 10, 1, 2, 3, 4, 5, 6, 7, 8, 9, 10, 1, 2, 3, 4, 5, 6, 7, 8, 9, 10, 1, 2, 3, 4, 5, 6, 7, 8, 9, 10, 1, 2, 3, 4, 5, 6, 7, 8, 9, 10, 1, 2, 3, 4, 5, 6, 7, 8, 9, 10, 1, 2, 3, 4, 5, 6, 7, 8, 9, 10, 1, 2, 3, 4, 5, 6, 7, 8, 9, 10, 1, 2, 3, 4, 5, 6, 7, 8, 9, 10, 1, 2, 3, 4, 5, 6, 7, 8, 9, 10, 1, 2, 3, 4, 5, 6, 7, 8, 9, 10, 1, 2, 3, 4, 5, 6, 7, 8, 9, 10, 1, 2, 3, 4, 5, 6, 7, 8, 9, 10, 1, 2, 3, 4, 5, 6, 7, 8, 9, 10, 1, 2, 3, 4, 5, 6, 7, 8, 9, 10, 1, 2, 3, 4, 5, 6, 7, 8, 9, 10, 1, 2, 3, 4, 5, 6, 7, 8, 9, 10, 1, 2, 3, 4, 5, 6, 7, 8, 9, 10, 1, 2, 3, 4, 5, 6, 7, 8, 9, 10, 8, 9, 1, 2, 3, 4, 5, 6, 7, 8, 9, 10, 1, 2, 3, 4, 5, 6, 7, 8, 9, 10, 1, 2, 3, 4, 5, 6, 7, 8, 9, 10, 1, 2, 3, 4, 5, 6, 7, 8, 9, 10, 1, 2, 3, 4, 5, 6, 7, 8, 9, 10, 1, 2, 3, 4, 5, 6, 7, 8, 9, 10, 1, 2, 3, 4, 5, 6, 7, 8, 9, 10, 1, 2, 3, 4, 5, 6, 7, 8, 9, 10, 1, 2, 3, 4, 5, 6, 7, 8, 9, 10, 1, 2, 3, 4, 5, 6, 7, 8, 9, 10, 1, 2, 3, 4, 5, 6, 7, 8, 9, 10, 1, 2, 3, 4, 5, 6, 7, 8, 9, 10, 1, 2, 3, 4, 5, 6, 7, 9, 10, 1, 2, 3, 4, 5, 6, 7, 8, 9, 10, 1, 2, 3, 4, 5, 6, 7, 8, 9, 10, 1, 2, 3, 4, 5, 6, 7, 8, 9, 10, 1, 2, 3, 4, 5, 6, 7, 8, 9, 10, 1, 2, 3, 4, 5, 6, 7, 8, 9, 10, 1, 2, 3, 4, 5, 6, 7, 8, 9, 10, 1, 2, 3, 4, 5, 6, 7, 8, 9, 10, 1, 2, 3, 4, 5, 6, 7, 8, 9, 10, 1, 2, 3, 4, 5, 6, 7, 8, 9, 10, 1, 2, 3, 4, 5, 6, 7, 8, 9, 10, 1, 2, 3, 4, 5, 6, 7, 8, 9, 10, 1, 2, 3, 4, 5, 6, 7, 8, 9, 10, 1, 2, 3, 4, 5, 6, 7, 8, 9, 10, 1, 2, 3, 4, 5, 6, 7, 8, 9, 10, 1, 2, 3, 4, 5, 6, 7, 8, 9, 10, 1, 2, 3, 4, 5, 6, 7, 8, 9, 10, 1, 2, 3, 4, 5, 6, 7, 8, 9, 10, 1, 2, 3, 4, 5, 6, 7, 8, 9, 10, 1, 2, 3, 4, 5, 6, 7, 8, 9, 10, 1, 2, 3, 4, 5, 6, 7, 8, 9, 10, 1, 2, 3, 4, 5, 6, 7, 8, 9, 10, 1, 2, 3, 4, 5, 6, 7, 8, 9, 10, 1, 2, 3, 4, 5, 6, 7, 8, 9, 10, 1, 2, 3, 4, 5, 6, 7, 8, 9, 10, 1, 2, 3, 4, 5, 6, 7, 8, 9, 10, 1, 2, 3, 4, 5, 6, 7, 8, 9, 10, 1, 2, 3, 4, 5, 6, 7, 8, 9, 10, 1, 2, 3, 4, 5, 6, 7, 8, 9, 10, 1, 2, 3, 4, 5, 6, 7, 8, 9, 10, 1, 2, 3, 4, 5, 6, 7, 8, 9, 10, 1, 2, 3, 4, 5, 6, 7, 8, 9, 10, 1, 2, 3, 4, 5, 6, 7, 8, 9, 10, 1, 2, 3, 4, 5, 6, 7, 8, 9, 10, 1, 2, 3, 4, 5, 6, 7, 8, 9, 10, 1, 2, 3, 4, 5, 6, 7, 8, 9, 10, 1, 2, 3, 4, 5, 6, 7, 8, 9, 10, 1, 2, 3, 4, 5, 6, 7, 8, 9, 10, 1, 2, 3, 4, 5, 6, 7, 8, 9, 10, 1, 2, 3, 4, 5, 6, 7, 8, 9, 10, 1, 2, 3, 4, 5, 6, 7, 8, 9, 10, 1, 2, 3, 4, 5, 6, 7, 8, 9, 10, 1, 2, 3, 4, 5, 6, 7, 8, 9, 10, 1, 2, 3, 4, 5, 6, 7, 8, 9, 10, 1, 2, 3, 4, 5, 6, 7, 8, 9, 10, 1, 2, 3, 4, 5, 6, 7, 8, 9, 10, 1, 2, 3, 4, 5, 6, 7, 8, 9, 10, 1, 2, 3, 4, 5, 6, 7, 8, 9, 10, 1, 2, 3, 4, 5, 6, 7, 8, 9, 10, 1, 2, 3, 4, 5, 6, 7, 8, 9, 10, 1, 2, 3, 4, 5, 6, 7, 8, 9, 10, 1, 2, 3, 4, 5, 6, 7, 8, 9, 10, 1, 2, 3, 4, 5, 6, 7, 8, 9, 10, 1, 2, 3, 4, 6, 7, 9, 10, 1, 2, 3, 4, 5, 6, 7, 8, 9, 10, 1, 2, 3, 4, 5, 6, 7, 8, 10, 1, 2, 3, 4, 5, 6, 7, 8, 9, 10, 1, 2, 3, 4, 5, 6, 7, 8, 9, 10, 1, 2, 3, 4, 5, 6, 7, 8, 9, 10, 1, 2, 3, 4, 5, 6, 7, 8, 9, 10, 1, 2, 3, 4, 5, 6, 7, 8, 9, 10, 1, 2, 3, 4, 5, 6, 7, 8, 9, 10, 1, 2, 3, 4, 5, 6, 7, 8, 9, 10, 1, 2, 3, 4, 5, 6, 7, 8, 9, 10, 1, 2, 3, 4, 5, 6, 7, 8, 9, 10, 1, 2, 3, 4, 5, 6, 7, 8, 9, 10, 1, 2, 3, 4, 5, 6, 7, 8, 9, 10, 1, 2, 3, 4, 5, 6, 7, 8, 9, 10, 1, 2, 3, 4, 5, 6, 7, 8, 9, 10, 1, 2, 3, 4, 5, 6, 7, 8, 9, 10, 1, 2, 3, 4, 5, 6, 7, 8, 9, 10, 1, 2, 3, 4, 5, 6, 7, 8, 9, 10, 1, 2, 3, 4, 5, 7, 8, 9, 10, 1, 2, 3, 4, 5, 6, 7, 8, 9, 10, 1, 2, 3, 4, 5, 6, 7, 8, 9, 10, 1, 2, 3, 4, 5, 6, 7, 8, 9, 10, 1, 2, 3, 4, 5, 6, 7, 8, 9, 10, 1, 2, 3, 4, 5, 6, 7, 8, 9, 10, 1, 2, 3, 4, 5, 6, 7, 8, 9, 10, 1, 2, 3, 4, 5, 6, 7, 8, 10, 1, 2, 3, 4, 5, 7, 9, 10, 1, 2, 3, 4, 5, 6, 7, 8, 9, 10, 1, 2, 3, 4, 5, 6, 7, 8, 9, 10, 1, 2, 3, 4, 5, 6, 7, 8, 9, 10, 1, 2, 3, 4, 5, 6, 7, 8, 9, 10, 1, 2, 3, 4, 5, 7, 9, 10, 1, 2, 3, 4, 6, 7, 9, 10, 1, 2, 3, 4, 5, 6, 7, 8, 9, 10, 1, 2, 3, 4, 5, 6, 7, 8, 9, 10, 1, 2, 3, 4, 5, 6, 7, 8, 9, 10, 1, 2, 3, 4, 5, 6, 7, 8, 9, 10, 1, 2, 3, 4, 5, 6, 7, 8, 9, 10, 1, 2, 3, 4, 5, 6, 7, 8, 9, 10, 1, 2, 3, 4, 5, 6, 7, 8, 9, 10, 1, 2, 3, 4, 5, 6, 7, 8, 9, 10, 1, 2, 3, 4, 5, 6, 7, 8, 9, 10, 1, 2, 3, 4, 5, 6, 7, 8, 9, 10, 1, 2, 3, 4, 5, 6, 7, 8, 9, 10, 1, 2, 3, 4, 5, 6, 7, 8, 9, 10, 1, 2, 3, 4, 5, 6, 7, 8, 9, 10, 1, 2, 3, 4, 5, 6, 7, 8, 9, 10, 1, 2, 3, 4, 5, 6, 7, 8, 9, 10, 1, 2, 3, 4, 5, 6, 7, 8, 9, 10, 1, 2, 3, 4, 5, 6, 7, 8, 9, 10, 1, 2, 3, 4, 5, 6, 7, 8, 9, 10, 1, 2, 3, 5, 6, 7, 8, 9, 10, 1, 2, 3, 4, 5, 6, 7, 8, 9, 10, 1, 2, 3, 4, 5, 6, 7, 8, 9, 10, 1, 2, 3, 4, 5, 6, 7, 8, 9, 10, 1, 2, 3, 4, 5, 6, 7, 8, 9, 10, 1, 2, 3, 4, 5, 6, 7, 8, 9, 10, 1, 2, 3, 4, 5, 6, 7, 8, 9, 10, 1, 2, 3, 4, 5, 6, 7, 8, 9, 10], \"Freq\": [0.23866349813785565, 0.1325908322988087, 0.20898840709955085, 0.04104001952105983, 0.028412321206887577, 0.011996313398463644, 0.10733543567046418, 0.0637698764865699, 0.13637914179306038, 0.030937860869722028, 0.23335477314551506, 0.11493593304182086, 0.13235046835118766, 0.07836540889215059, 0.17588680662460465, 0.03657052414967027, 0.06443378064465714, 0.022638895902176836, 0.10448721185620077, 0.03657052414967027, 0.19725925327509186, 0.13963295456551447, 0.2482363636720257, 0.06870827923064997, 0.013298376625287092, 0.035462337667432245, 0.13298376625287092, 0.07979025975172255, 0.02216396104214515, 0.062059090918006425, 0.07837588268903391, 0.0609590198692486, 0.10450117691871189, 0.132803579000863, 0.5116203453311936, 0.0021771078524731643, 0.0021771078524731643, 0.0544276963118291, 0.0043542157049463286, 0.04789637275440961, 0.3109645825291198, 0.028269507502647253, 0.11072223771870174, 0.16019387584833444, 0.04476005354585815, 0.061250599589069046, 0.08716431479982903, 0.09423169167549084, 0.04947163812963269, 0.05418322271340723, 0.010111042347600392, 0.012133250817120472, 0.26895372644617044, 0.18402097072632714, 0.05459962867704212, 0.1496434267444858, 0.3195089381841724, 0.239484104228614, 0.23122603166900663, 0.06812909861676088, 0.00825807255960738, 0.030967772098527673, 0.1341936790936199, 0.0825807255960738, 0.0640000623369572, 0.07432265303646642, 0.06812909861676088, 0.13349666599284116, 0.10953572594284401, 0.0992667516357024, 0.07017132443213445, 0.047921880099994256, 0.330318673546389, 0.09755525591784545, 0.05134487153570813, 0.025672435767854065, 0.03594141007499569, 0.3221558048145368, 0.06370312524581237, 0.1328665183698372, 0.07644375029497484, 0.11284553614972476, 0.10010491110056229, 0.060062946660337374, 0.05642276807486238, 0.05460267878212488, 0.020020982220112456, 0.11875899071807867, 0.045971222213449806, 0.06895683332017472, 0.15323740737816602, 0.08236510646576424, 0.19920862959161584, 0.05937949535903934, 0.11301258794139744, 0.05937949535903934, 0.101519782388035, 0.4156399119065952, 0.04651930887519071, 0.19821270738124735, 0.0010112893233737111, 0.005056446616868555, 0.19113368211763138, 0.06269993804917008, 0.07888056722314946, 0.3053199768099124, 0.11234717761403702, 0.03436501903488191, 0.22601608672941567, 0.040973676541589975, 0.14010353914221088, 0.03568675053622353, 0.0066086575067080605, 0.055512723056347704, 0.04493887104561481, 0.11480506925782123, 0.17838941530830685, 0.04238956403365707, 0.054753186876807046, 0.0635843460504856, 0.1395323149441212, 0.08301289623257843, 0.12363622843149978, 0.16072709696094972, 0.04062333219892136, 0.15872543946368223, 0.08687000403079904, 0.11368173366993456, 0.18231976154612145, 0.10295704181428035, 0.03539148312365887, 0.18017482317499062, 0.0836525964741028, 0.03324654475252803, 0.021449383711308407, 0.08090885342632528, 0.1702322276089884, 0.13333779044658406, 0.07378887432480866, 0.09709062411159033, 0.15922862354300815, 0.0576071036395436, 0.11003604065980238, 0.07314160349739805, 0.044014416263920955, 0.2610146448403092, 0.028217799442195584, 0.1904701462348202, 0.11757416434248161, 0.13168306406357938, 0.11757416434248161, 0.007054449860548896, 0.09876229804768455, 0.016460383007947423, 0.032920766015894845, 0.15360035023665244, 0.1488498239406735, 0.09342701715425253, 0.21931596399769449, 0.10609508727686304, 0.053839298021094675, 0.06492385937837887, 0.03800421036783153, 0.058589824317073616, 0.06334035061305256, 0.031124513788093035, 0.038637327461081006, 0.05902925028776265, 0.2801206240928373, 0.15454930984432402, 0.07727465492216201, 0.009659331865270251, 0.08693398678743226, 0.19211337820926389, 0.06976184124917405, 0.12324906178273418, 0.156559619021311, 0.10659378316344577, 0.06995217020101129, 0.1365732846781649, 0.24982917928932602, 0.04830030799593637, 0.041638196548221006, 0.0249829179289326, 0.041638196548221006, 0.21122410526685653, 0.2217104083652111, 0.0224706494964741, 0.07040803508895217, 0.10336498768378086, 0.059921731990597596, 0.1348238969788446, 0.02546673609600398, 0.1123532474823705, 0.037451082494123496, 0.06789984503781787, 0.0969997786254541, 0.10669975648799952, 0.013579969007563576, 0.15519964580072657, 0.22503948641105354, 0.11251974320552677, 0.08729980076290869, 0.06013986274778155, 0.07371983175534512, 0.10234596314071821, 0.10916902735009942, 0.006823064209381214, 0.002274354736460405, 0.08415112524903498, 0.05913322314797052, 0.08187677051257457, 0.05231015893858931, 0.3798172409888876, 0.12281515576886186, 0.09565796470675648, 0.056796916544636665, 0.13900297996450553, 0.04782898235337824, 0.21074645349457288, 0.24811284595814964, 0.03288242536794755, 0.07921675202278272, 0.07174347353006737, 0.019430524081059913, 0.2587772820679276, 0.17177457516577954, 0.013385031831099705, 0.046847611408848966, 0.06915599779401514, 0.04907845004736558, 0.06915599779401514, 0.11154193192583087, 0.14723535014209674, 0.0646943205169819, 0.21695185390292623, 0.20019162484604783, 0.08473226912088536, 0.14711756616593283, 0.0977680028317908, 0.10428586968724352, 0.04190057264219606, 0.053074058680115006, 0.013966857547398685, 0.04003832496920957, 0.2643245066587969, 0.03776064380839956, 0.08391254179644346, 0.10698849079046542, 0.20558572740128647, 0.09859723661082107, 0.08181472825153238, 0.04824971153295499, 0.05454315216768825, 0.01888032190419978, 0.09699034795454071, 0.135786487136357, 0.14742532889090187, 0.15906417064544676, 0.24247586988635178, 0.015518455672726514, 0.07759227836363257, 0.062073822690906055, 0.0135786487136357, 0.044615560059088726, 0.3230214437494773, 0.11997939339266299, 0.13659192478549326, 0.12920857749979092, 0.03322506278566052, 0.08675433060700247, 0.038762573249937274, 0.012920857749979092, 0.0830626569641513, 0.03691673642851169, 0.13336073659096012, 0.041775652426083894, 0.2297660883434614, 0.10604588692775142, 0.11889993382808492, 0.05944996691404246, 0.13175398072841843, 0.07069725795183428, 0.0401688965635422, 0.06748374622675091, 0.08462223783452072, 0.06699260495232891, 0.12164446688712355, 0.10225187071671255, 0.33320006147342535, 0.024681486035068544, 0.08374075619041113, 0.135748173192877, 0.019392596170411, 0.02820741261150691, 0.0907538561833754, 0.014369360562367773, 0.17091976247869034, 0.13991219494937043, 0.08394731696962225, 0.14066847708423189, 0.09982924180171295, 0.04991462090085647, 0.10890462742005048, 0.10058552393657441, 0.16724156072056104, 0.015330476399384762, 0.19650883384665924, 0.17142259973857507, 0.10870701446836468, 0.0891954990509659, 0.07665238199692381, 0.006968398363356711, 0.13658060792179152, 0.032054632471440865, 0.3077857874903467, 0.11424363291126405, 0.08601873536848118, 0.05779383782569829, 0.12365193209219168, 0.07661043618755355, 0.12230788935205916, 0.02284872658225281, 0.04838553864477066, 0.04032128220397555, 0.38164177743276273, 0.04748538244555112, 0.06683127899744232, 0.08969461128604102, 0.09145332915439476, 0.058037689655673595, 0.028139485893659926, 0.024622050156952437, 0.07562486833921105, 0.1389387115999459, 0.24496087884094706, 0.09566880094036986, 0.09871557804038164, 0.12491786110048295, 0.09871557804038164, 0.11516817438044526, 0.04631101192017904, 0.07556007208029213, 0.02924906016011308, 0.07007587330027092, 0.2813506806664082, 0.09970673244669205, 0.11747624912035994, 0.054295745391762996, 0.18460553433199417, 0.015795125932149236, 0.08983477873909877, 0.07107806669467155, 0.050346963908725686, 0.034551837976576454, 0.15373865534224776, 0.1430127026439514, 0.1394373850778526, 0.07686932767112388, 0.10368420941686478, 0.0750816688880745, 0.02145190539659271, 0.20915607761677893, 0.05720508105758056, 0.023239564179642104, 0.15301981797180805, 0.10201321198120537, 0.006375825748825336, 0.029753853494518232, 0.23590555270653743, 0.03825495449295201, 0.029753853494518232, 0.07013408323707869, 0.26565940620105566, 0.06800880798747025, 0.334875893371543, 0.07891979652705154, 0.10664837368520479, 0.04265934947408191, 0.05332418684260239, 0.1023824387377966, 0.09171760136927612, 0.06398902421112287, 0.07891979652705154, 0.046925284421490104, 0.1925150511064768, 0.10230799858801339, 0.15621221289782689, 0.12430971871446787, 0.023101806132777215, 0.07480584842994527, 0.13641066478401784, 0.08800688050581797, 0.06160481635407258, 0.04070318223394081, 0.2001058166840034, 0.04002116333680068, 0.22233979631555933, 0.025198510249096726, 0.08004232667360137, 0.15415559211212115, 0.05039702049819345, 0.134886143098106, 0.04298569395434147, 0.04891475518942306, 0.13531041296621998, 0.08594039742449107, 0.1508528252663939, 0.1087968861012174, 0.15359560390760105, 0.043884458259314585, 0.1645667184724297, 0.08411187833035295, 0.04205593916517648, 0.030170565053278777, 0.2370500932383298, 0.09030479742412563, 0.10836575690895076, 0.15351815562101356, 0.03386429903404711, 0.1715791151058387, 0.10159289710214134, 0.022576199356031407, 0.0496676385832691, 0.031606679098443974, 0.14681718082766784, 0.1001649925272874, 0.22365607920476502, 0.039791572373853897, 0.10839773163911924, 0.05214068104160166, 0.1180025939362564, 0.11251410119503516, 0.05076855785629635, 0.04802431148568574, 0.12598881902908743, 0.01615241269603685, 0.14214123172512427, 0.030151170365935454, 0.07214744337563127, 0.06137916824494003, 0.33812383910370475, 0.027997515339797205, 0.11629737141146532, 0.06999378834949302, 0.1264014756884972, 0.04965772259190961, 0.004514338417446328, 0.16703052144551414, 0.07674375309658758, 0.3137465200125198, 0.20314522878508479, 0.029343199713401134, 0.002257169208723164, 0.02708603050467797, 0.4335279763566311, 0.0791659782912109, 0.03204337216549013, 0.07728107404618206, 0.0490075103707496, 0.11309425470172986, 0.007539616980115324, 0.05089241461577843, 0.05843203159589376, 0.09989992498652804, 0.29232715517602925, 0.10962268319101097, 0.010962268319101097, 0.18818560614456883, 0.12423904094981243, 0.056638386315355664, 0.021924536638202194, 0.0639465651947564, 0.06029247575505603, 0.06942769935430694, 0.296290519451312, 0.03167886057026607, 0.003726924772972478, 0.20311740012700005, 0.16957507717024775, 0.046586559662155975, 0.007453849545944956, 0.022361548637834867, 0.13044236705403672, 0.08758273216485324, 0.1649871563359259, 0.08677102296185733, 0.17843055425959395, 0.102658675053465, 0.1882075709313525, 0.036663812519094646, 0.04399657502291358, 0.04766295627482304, 0.09288165838170644, 0.05621784586261179, 0.09438464455793392, 0.04170484294420336, 0.21071920645492223, 0.13828447923604273, 0.11413957016308288, 0.109749586695272, 0.09657963629183935, 0.1316995040343264, 0.0219499173390544, 0.04170484294420336, 0.1498725912155083, 0.2491857540691584, 0.14445550960530923, 0.09570177511351736, 0.05236512223192459, 0.05055942836185823, 0.05055942836185823, 0.05778220384212369, 0.10292455059378282, 0.046948040621725494, 0.2809623179613658, 0.12603917067425754, 0.20087492826209796, 0.03676142477999178, 0.09846810208926371, 0.04201305689141918, 0.028227522598922264, 0.047264689002846576, 0.0584244072396298, 0.08074384371319623, 0.1293902225497736, 0.04145511984604397, 0.04145511984604397, 0.01884323629365635, 0.02386809930529804, 0.1193404965264902, 0.2638053081111889, 0.1193404965264902, 0.1356713013143257, 0.10426590749156513, 0.2504752846227877, 0.04870352756554205, 0.06029960555733777, 0.12059921111467554, 0.07189568354913349, 0.00463843119671829, 0.1484297982949853, 0.08581097713928837, 0.13219528910647127, 0.07885333034421094, 0.16503200555660408, 0.18440195926043085, 0.06663264074116408, 0.024018742592745196, 0.10459775000066455, 0.1456620518527773, 0.15728402407507336, 0.044938292592878105, 0.05113667777810267, 0.055010668518868024, 0.14891554585296987, 0.14891554585296987, 0.02889406113565087, 0.11335362445524573, 0.04889764192187071, 0.1911453275127673, 0.11557624454260348, 0.0711238427954483, 0.0822369432322371, 0.053342882096586226, 0.15403458670676212, 0.11766530928988773, 0.05348423149540351, 0.04492675445613895, 0.26100304969756916, 0.2053794489423495, 0.07273855483374878, 0.04920549297577123, 0.029951169637425966, 0.010696846299080702, 0.24439267894738267, 0.044034716927456335, 0.17393713186345253, 0.2774187166429749, 0.11889373570413211, 0.011008679231864084, 0.015412150924609718, 0.019815622617355352, 0.030824301849219436, 0.06385033954481169, 0.9598672397916382, 0.03839468959166553, 0.31617992898935016, 0.09700975093991426, 0.08982384346288358, 0.09521327407065659, 0.12754985771729468, 0.1886300712720555, 0.0017964768692576715, 0.02335419930034973, 0.007185907477030686, 0.053894306077730145, 0.14491354010673835, 0.1387904327782846, 0.08164143104604976, 0.2224728996004856, 0.2122677207197294, 0.059190037508386084, 0.018369321985361196, 0.05306693017993235, 0.004082071552302488, 0.06531314483683981, 0.12438911131789032, 0.05358300179847583, 0.20667729265126392, 0.2353824721861617, 0.02870517953489777, 0.14352589767448884, 0.0975976104186524, 0.059324037705455385, 0.026791500899237916, 0.022964143627918213, 0.06371309164963433, 0.040048229036913005, 0.37681742775640875, 0.07099458783816397, 0.22754675589155116, 0.010922244282794456, 0.1183243130636066, 0.038227854989780596, 0.016383366424191685, 0.038227854989780596, 0.08739185627711797, 0.20974045506508313, 0.13011676379037565, 0.13205880504097828, 0.1534212587976071, 0.09127593877832321, 0.06408736126988651, 0.08739185627711797, 0.017478371255423595, 0.029130618759039325, 0.29686348888163744, 0.08607284588875878, 0.10012555542161737, 0.08607284588875878, 0.10012555542161737, 0.033375185140539124, 0.10539532149643933, 0.026348830374109834, 0.059724015514648954, 0.10539532149643933, 0.11017090496913425, 0.06906235833886028, 0.11181524683434521, 0.19896536569052603, 0.10688222123871233, 0.1364803748125096, 0.08879446072139179, 0.10030485377786849, 0.059196307147594524, 0.01808776051732055, 0.25915081619564434, 0.0792367603475891, 0.07830456316702923, 0.16266840800769763, 0.05313523929191269, 0.1272449151464225, 0.08716043638234801, 0.05173694352107288, 0.06199111250723147, 0.039152281583514616, 0.26677993552066037, 0.15352430251660645, 0.03397668990121618, 0.11199723708178667, 0.0780205471805705, 0.12206440445992481, 0.09312129824777769, 0.05033583689069064, 0.0629197961133633, 0.027684710289879854, 0.14345400543468723, 0.12600689666560366, 0.07172700271734361, 0.06591129979431576, 0.11437549081954793, 0.14926970835771508, 0.10468265261450149, 0.0891741114864272, 0.12600689666560366, 0.0077542705640371475, 0.24413352203694824, 0.024413352203694824, 0.23890208942187077, 0.0976534088147793, 0.07149624573939199, 0.019181919588617362, 0.0976534088147793, 0.09416578707139432, 0.0837029218412394, 0.0279009739470798, 0.3658109163272538, 0.07316218326545076, 0.049936093339910836, 0.11496914513142263, 0.11845305862025361, 0.013935653955323955, 0.02787130791064791, 0.11032392714631464, 0.049936093339910836, 0.07548479225800475, 0.36648015550349666, 0.19182945639636154, 0.11452504859484271, 0.05153627186767922, 0.015747194181790873, 0.061557213619727956, 0.060125650512292426, 0.008589378644613203, 0.12884067966919804, 0.11029343543134432, 0.07410340193043446, 0.13097345457472137, 0.0689333971445902, 0.19301351200485256, 0.06031672250151642, 0.1602701483611722, 0.09650675600242628, 0.053423382787057404, 0.049976712929827895, 0.2156257642716819, 0.09787268732899036, 0.05199486514352613, 0.13457494507736176, 0.02752669331127854, 0.10093120880802131, 0.07340451549674278, 0.09787268732899036, 0.10246046954753679, 0.0963434265894749, 0.10685274533610767, 0.03928409755003958, 0.10056728972810133, 0.4038405228144069, 0.009428183412009501, 0.131994567768133, 0.08171092290408233, 0.02357045853002375, 0.02357045853002375, 0.07856819510007916, 0.0010625114597629856, 0.025500275034311654, 0.021250229195259714, 0.06056315320649018, 0.09668854283843169, 0.2730654451590873, 0.25500275034311654, 0.20187717735496727, 0.040375435470993454, 0.02443776357454867, 0.003593841020126596, 0.14375364080506386, 0.1006275485635447, 0.052110694791835645, 0.13656595876481065, 0.1060183100937346, 0.02695380765094947, 0.102424469073608, 0.31985185079126704, 0.005390761530189895, 0.03361235389143095, 0.6445663158003816, 0.053384326768743266, 0.07117910235832435, 0.04349834033008711, 0.011863183726387392, 0.06524751049513065, 0.007908789150924928, 0.023726367452774785, 0.04349834033008711, 0.04645547273262527, 0.012669674381625072, 0.02654598441864301, 0.05007537969880386, 0.013272992209321505, 0.06515832539121466, 0.01146303872623221, 0.6558064787060216, 0.1128204337792328, 0.006636496104660753, 0.0055608956322789355, 0.0037072637548526237, 0.05560895632278935, 0.05097487662922357, 0.025950846283968366, 0.09824248950359452, 0.00926815938713156, 0.6395029977120775, 0.10751064889072608, 0.0027804478161394678, 0.11223977373179703, 0.030286923070484913, 0.19419262439310916, 0.17103203616273835, 0.38660366507618976, 0.005344751130085573, 0.014252669680228194, 0.06948176469111245, 0.0017815837100285243, 0.014252669680228194, 0.1375425594308823, 0.04813989580080881, 0.17880532726014703, 0.052724647781838226, 0.03897039183874999, 0.2819622468333088, 0.20172908716529409, 0.016046631933602937, 0.011461879952573526, 0.03438563985772058, 0.14442081975768278, 0.08927832494111299, 0.14223262551893, 0.0512037451868148, 0.1203506831314023, 0.07221040987884139, 0.13916915358467613, 0.08884068609336243, 0.10459568461238238, 0.04726499555705982, 0.1301169075802519, 0.12623282078681153, 0.13982712456385277, 0.06991356228192638, 0.10487034342288959, 0.24663951138346255, 0.056319258504885145, 0.08933399624912816, 0.00776817358688071, 0.027188607554082485, 0.0009177922345152626, 0.006424545641606838, 0.06791662535412944, 0.06516324865058365, 0.0018355844690305253, 0.0018355844690305253, 0.006424545641606838, 0.006424545641606838, 0.0036711689380610505, 0.8397798945814653, 0.1946379939658906, 0.0996361159587297, 0.14597849547441794, 0.07878204517667001, 0.03475678463676618, 0.06951356927353236, 0.02317118975784412, 0.039391022588335003, 0.24329749245736323, 0.07183068824931677, 0.1898657114349035, 0.10388878550211701, 0.07702099614812123, 0.17016266590863993, 0.10926234337291617, 0.051944392751058506, 0.06269150849265681, 0.03761490509559409, 0.10567997145905006, 0.09135048380358565, 0.03427712223630138, 0.13710848894520553, 0.08814117146477499, 0.07589934209466735, 0.11507319607901179, 0.026932024614236803, 0.1248666595750979, 0.048967317480430546, 0.10283136670890415, 0.24728495327617428, 0.252498313522943, 0.04757214602606173, 0.10703732855863889, 0.24883891767478442, 0.08508095346968732, 0.054890937722378914, 0.060380031494616807, 0.042997901215863485, 0.06495427630481505, 0.035679109519546295, 0.2984845891814599, 0.15983368323910432, 0.07510257405210927, 0.042365554593497536, 0.10398817945676668, 0.10591388648374384, 0.07317686702513211, 0.023108484323725927, 0.08665681621397223, 0.03273701945861173, 0.1328557163801612, 0.1085951073020448, 0.07509236143226503, 0.10628457310412896, 0.09935297051038142, 0.11090564149996066, 0.15596105835931967, 0.0693160259374754, 0.0693160259374754, 0.07047129303643333, 0.15386347971922856, 0.08489019570716058, 0.18746584885331297, 0.24936494988978422, 0.1273352935607409, 0.012379820207294253, 0.051287826573076185, 0.08489019570716058, 0.02829673190238686, 0.021222548926790145, 0.20523395384474416, 0.09392062294589987, 0.10783478930825541, 0.07826718578824989, 0.13218458044237757, 0.08000645658354433, 0.08348499817413321, 0.15827364237179423, 0.02608906192941663, 0.034785415905888836, 0.13530402948257336, 0.08628083039468447, 0.19217094042452448, 0.1431477413366356, 0.10589011002984003, 0.12746031762851115, 0.07059340668656001, 0.09608547021226224, 0.03529670334328001, 0.00980463981757778, 0.21023252687427874, 0.07883719757785453, 0.11606587421184138, 0.1905232274798151, 0.08978680835255654, 0.09197673050749694, 0.030658910169165648, 0.043798443098808065, 0.08321704188773534, 0.0635077424932717, 0.13408604257397078, 0.05172862556153188, 0.21304026053630892, 0.18309210889542205, 0.1293215639038297, 0.055812464421652816, 0.1320441231439103, 0.0639801421418947, 0.017696635060524064, 0.019057914680564378, 0.14020264676615427, 0.2139455973379627, 0.0500723738450551, 0.04825156025068946, 0.03277464469858152, 0.1647836302900904, 0.01547691555210794, 0.05371400103378638, 0.2002894953802204, 0.08011579815208816, 0.2794426810123094, 0.17866007474557485, 0.13193359365827068, 0.1136094834279553, 0.11177707240492377, 0.03298339841456767, 0.027486165345473056, 0.05588853620246188, 0.026569959833957286, 0.043061659041241124, 0.1780995050889917, 0.2142759670601931, 0.05380089216229957, 0.05936650169633056, 0.017624430191098134, 0.30889132913871997, 0.017624430191098134, 0.0714253223533977, 0.02411764131413429, 0.0556560953403099, 0.20865201710867232, 0.1506059672363349, 0.11138566326853937, 0.09255991736399749, 0.20394558063253687, 0.05647723771362559, 0.021963370221965508, 0.050201989078778306, 0.06275248634847289, 0.04235792828521919, 0.07220682550043604, 0.09477145846932232, 0.24144157276708303, 0.05866804571910429, 0.2121075499075309, 0.02030816967199764, 0.10831023825065407, 0.14892657759464936, 0.0022564632968886263, 0.0428728026408839, 0.31648605710201816, 0.1593980871535712, 0.06699339894860239, 0.1270564462818321, 0.11550586025621101, 0.039271992487111745, 0.07623386776909927, 0.03003152366661486, 0.03696187528198752, 0.03234164087173908, 0.13840183408206064, 0.22192018223502827, 0.14078807260071688, 0.009544954074624872, 0.08113210963431142, 0.0787458711156552, 0.12408440297012334, 0.023862385186562182, 0.05011100889178058, 0.131243118526092, 0.23481504659079178, 0.137484646238103, 0.12570024798912274, 0.15450655481996337, 0.061977205605748015, 0.0733251446603216, 0.04495529702388765, 0.047574052190327704, 0.03535319474694077, 0.08467308371489518, 0.07882557979419827, 0.007389898105706088, 0.15518786021982783, 0.02955959242282435, 0.10099527411131652, 0.36210500717959826, 0.0874471275841887, 0.03818114021281478, 0.05296093642422696, 0.08867877726847305, 0.003602047587520332, 0.013207507820907884, 0.04442525357941743, 0.06963958669205975, 0.016809555408428215, 0.03121774575850954, 0.03842184093355021, 0.02401365058346888, 0.009605460233387552, 0.7480252156750555, 0.07305375110999371, 0.09363227254942856, 0.009260334647745682, 0.0010289260719717425, 0.11935542434872212, 0.2551736658489921, 0.15845461508364833, 0.03292563430309576, 0.027781003943237046, 0.22739266190575508, 0.23473346974923473, 0.15217890199844455, 0.041774600548592625, 0.04873703397335806, 0.0686297009012593, 0.1670984021943705, 0.04674776728056793, 0.031828267084641995, 0.11836136822101243, 0.08951700117555562, 0.19027055033683898, 0.06830224883886528, 0.07318098089878422, 0.10245337325829791, 0.1219683014979737, 0.07196129788380448, 0.0426889055242908, 0.019514928239675794, 0.19027055033683898, 0.12074861848299397, 0.08667028799282897, 0.09686679246257356, 0.35993660778198383, 0.0418056683259528, 0.24267680637992112, 0.0010196504469744585, 0.11624015095508826, 0.02549126117436146, 0.006117902681846751, 0.022432309833438087, 0.3247883544691024, 0.08472739681802673, 0.056484931212017815, 0.03059600440650965, 0.014121232803004454, 0.06354554761352003, 0.21417203084556755, 0.06354554761352003, 0.0894344744190282, 0.056484931212017815, 0.016500380444571458, 0.020167131654476228, 0.0586680193584763, 0.036667512099047686, 0.24200557985371474, 0.300673599212191, 0.08983540464266683, 0.1375031703714288, 0.0586680193584763, 0.03850088770400007, 0.06511159877068606, 0.008347640868036674, 0.09015452137479608, 0.0767982959859374, 0.05509442972904205, 0.08013735233315207, 0.10684980311086943, 0.34392280376311096, 0.16695281736073347, 0.0066781126944293395, 0.22316489983374077, 0.07597102973063516, 0.0023740946790823487, 0.2920136455271289, 0.0878415031260469, 0.07597102973063516, 0.030863230828070534, 0.007122284037247046, 0.09021559780512925, 0.11870473395411743, 0.15261623531272822, 0.025136791698567, 0.06463746436774372, 0.25136791698567, 0.04668261315448158, 0.22802661040842923, 0.06822843461039615, 0.03411421730519808, 0.01615936609193593, 0.1131155626435515, 0.2307292905091566, 0.09432329486223383, 0.12769922996733196, 0.11463908144794573, 0.20170673824385388, 0.0812631463428476, 0.026120297038772444, 0.03192480749183299, 0.04643608362448435, 0.043533828397954076, 0.212006937680839, 0.06645813331445989, 0.13236702585772592, 0.1027080242132562, 0.10820043192519503, 0.0697535779416232, 0.14335184128160358, 0.08018915259430698, 0.04888242863625562, 0.03570065012760242, 0.16986320615838263, 0.1860406543639429, 0.06976524538647859, 0.07684287897641119, 0.04246580153959566, 0.17491865872262022, 0.03741034897535808, 0.04448798256529069, 0.096053598720514, 0.10212014179759908, 0.12389612107814683, 0.05431062841781779, 0.1487884924363133, 0.16406335667882457, 0.05431062841781779, 0.12333038536546123, 0.25005518500703605, 0.03847002846262093, 0.02545810707085209, 0.016972071380568058, 0.2766089296466199, 0.09992678610270563, 0.044894643031650354, 0.09123750035464426, 0.04344642874030679, 0.11585714330748477, 0.18392321500063208, 0.027516071535527636, 0.06516964311046018, 0.04923928590568103, 0.24153814491965955, 0.15431603703200472, 0.09914991751331705, 0.0902040602940704, 0.07380332205878487, 0.1490976203207775, 0.07380332205878487, 0.046220262299441026, 0.03801989318179826, 0.034292452673778825, 0.18917087911298927, 0.22929803528847184, 0.036305522254008044, 0.021018986568109917, 0.0019108169607372652, 0.40509319567630026, 0.0038216339214745304, 0.08407594627243967, 0.005732450882211796, 0.021018986568109917, 0.09533762654492196, 0.06355841769661465, 0.08398790909909792, 0.2587735577647882, 0.3064423710372492, 0.022699434891648086, 0.08398790909909792, 0.03404915233747213, 0.01815954791331847, 0.03404915233747213, 0.14534952912631519, 0.01525272836510715, 0.0610109134604286, 0.25032418905087617, 0.011663851102728997, 0.11933016897407357, 0.3454294365038972, 0.032299895361403375, 0.010766631787134459, 0.008074973840350844, 0.08079631220737346, 0.0037579680096452776, 0.0018789840048226388, 0.12964989633276208, 0.21796214455942609, 0.5505423134130332, 0.005636952014467916, 0.007515936019290555, 0.3020715487745579, 0.08682296012681903, 0.09224939513474523, 0.15555780356055077, 0.1447049335446984, 0.04522029173271825, 0.04702910340202698, 0.02713217503963095, 0.0542643500792619, 0.043411480063409516, 0.046946956927324666, 0.01263956532658741, 0.559752178748871, 0.010833913137074923, 0.1552860882980739, 0.010833913137074923, 0.13542391421343652, 0.02527913065317482, 0.04333565254829969, 0.34213506308133657, 0.11843136798969343, 0.2083514807226088, 0.07676107184517167, 0.006579520443871858, 0.1030791536206591, 0.04824981658839362, 0.02851125525677805, 0.02412490829419681, 0.041670296144521765, 0.13917600533063254, 0.1555496530165893, 0.09210176823350683, 0.24151130336786233, 0.018420353646701363, 0.12280235764467576, 0.049120943057870306, 0.06754129670457167, 0.05935447286159328, 0.0511676490186149, 0.23483814122240568, 0.08561807232066873, 0.09214135402129112, 0.08317184168293534, 0.07991020083262415, 0.09540299487160231, 0.08887971317097992, 0.060340355730757016, 0.13291186465018098, 0.04729379232951225, 0.258366984857294, 0.15187788974719307, 0.19726668438428527, 0.06633746908498088, 0.07855752917958263, 0.06982891482629566, 0.012220060094601743, 0.010474337223944351, 0.11521770946338786, 0.04015162602512001, 0.3089974427306723, 0.04896680786442348, 0.11313021127297838, 0.14943318951729234, 0.10046638165286886, 0.054876595020474594, 0.03545872293630666, 0.09117957326478855, 0.0599421268685184, 0.03799148886032856, 0.3411998779499254, 0.031018170722720492, 0.08351045963809363, 0.03817621012027138, 0.11930065662584804, 0.13600274855346678, 0.0978265384331954, 0.0071580393975508826, 0.08351045963809363, 0.062036341445440984, 0.3692921668384148, 0.052274233662058724, 0.1467051073741648, 0.040470374448045465, 0.13490124816015153, 0.053960499264060616, 0.04890170245805493, 0.026980249632030308, 0.04215664005004736, 0.08431328010009471, 0.1808895967489877, 0.05898573807032207, 0.1867881705560199, 0.015729530152085888, 0.08454622456746164, 0.1258362412166871, 0.05701954680131134, 0.13566719756174078, 0.11797147614064414, 0.03539144284219324, 0.04379540847621082, 0.38082963892357236, 0.0019041481946178618, 0.06378896451969837, 0.055220297643918, 0.009520740973089309, 0.023801852432723272, 0.05141200125468227, 0.33417800815543475, 0.03522674160043045, 0.09002009962777907, 0.5137732515341538, 0.05269469246504141, 0.023053927953455615, 0.047205661999932924, 0.006586836558130176, 0.012075867023238656, 0.026347346232520705, 0.2184634125113175, 0.008782448744173568, 0.1531191525250603, 0.23274111183809165, 0.034707007905680334, 0.00816635480133655, 0.10616261241737515, 0.05920607230968999, 0.24907382144076476, 0.020415887003341373, 0.12453691072038238, 0.00816635480133655, 0.25689180346081913, 0.19734204028850866, 0.05180562356694274, 0.07850955324062456, 0.055544173721258194, 0.08011178902104547, 0.06756094207441501, 0.05100450567673228, 0.10200901135346456, 0.059282723875573644, 0.043293168084492156, 0.08658633616898431, 0.15152608829572256, 0.049787143297165985, 0.2943935429745467, 0.05844577691406441, 0.023811242446470687, 0.12771484584925186, 0.11256223701967961, 0.049787143297165985, 0.2348787176183442, 0.029100018112007246, 0.05404289077944203, 0.2224072812846268, 0.17252153594975725, 0.07898576344687681, 0.03325716355657971, 0.07690719072459058, 0.06859289983544566, 0.029100018112007246, 0.20952965002312798, 0.09074118701789007, 0.04454567362696422, 0.06929327008638878, 0.0742427893782737, 0.15013541852050902, 0.20458013073124307, 0.03794631457111766, 0.06764343032242714, 0.051145032682810766, 0.11323601508983641, 0.18495215798006615, 0.05095620679042639, 0.13210868427147582, 0.08492701131737732, 0.05284347370859033, 0.11134874817167248, 0.03208353760878698, 0.1453195526986234, 0.09247607899003307, 0.10347225653750977, 0.08365842017926323, 0.09026303229867874, 0.3434398302096069, 0.31481984435880633, 0.02641844847766207, 0.017612298985108046, 0.0022015373731385057, 0.019813836358246552, 0.20745317486042347, 0.07801657857998832, 0.09929382728362149, 0.07447037046271612, 0.07624347452135222, 0.06383174611089953, 0.09929382728362149, 0.062058642052263434, 0.15071384498406834, 0.0868820988731688, 0.21412830738133393, 0.0446876467578436, 0.15268279308929897, 0.14895882252614534, 0.25136801301287026, 0.014895882252614533, 0.020481838097344985, 0.05772154372888132, 0.04096367619468997, 0.05399757316572768, 0.13923230230994946, 0.037630351975662016, 0.10536498553185365, 0.037630351975662016, 0.11665409112455226, 0.12229864392090156, 0.24647880544058623, 0.12982471431603396, 0.02445972878418031, 0.04327490477201132, 0.2136167638527222, 0.09633697193358061, 0.0397913579725659, 0.0816769979436879, 0.22827673784261493, 0.10890266392491721, 0.0460742039682342, 0.0314142299783415, 0.10052553593069281, 0.05026276796534641, 0.09865528554095901, 0.043049579145145754, 0.08968662321905364, 0.010762394786286439, 0.17399204904496407, 0.07892422843276721, 0.05919317132457541, 0.25112254501335024, 0.16502338672305872, 0.028699719430097168, 0.0027268319314425814, 0.05453663862885163, 0.2549587855898814, 0.046356142834523884, 0.023178071417261942, 0.05453663862885163, 0.025904903348704524, 0.028631735280147105, 0.14588550833217812, 0.36266864688186334, 0.4289582653188696, 0.17242440076542798, 0.08621220038271399, 0.09041767357211467, 0.04836294167810785, 0.10303409314031671, 0.002102736594700341, 0.052568414867508524, 0.01682189275760273, 0.2190238722560411, 0.6347980026403903, 0.009280672553222081, 0.02969815217031066, 0.016705210595799744, 0.007424538042577665, 0.05011563178739924, 0.03341042119159949, 0.11411912692670372, 0.300859516443128, 0.06150576321374291, 0.13412702580346345, 0.05854163004681554, 0.041497864336983166, 0.06224679650547475, 0.06743402954759765, 0.0963343279251395, 0.0629878297972066, 0.17020694751723442, 0.12505000225756, 0.09205069610625943, 0.06599861230260111, 0.10073472404081221, 0.16499653075650275, 0.07989305699788554, 0.14241805812666555, 0.006947222347642222, 0.050367362020406106, 0.1546415101824922, 0.19293369365625218, 0.110458221558923, 0.01325498658707076, 0.03976495976121228, 0.18556981221899063, 0.044183288623569204, 0.05891105149809227, 0.0662749329353538, 0.1340226421581599, 0.26124180409756426, 0.08561706184710088, 0.04610149484074663, 0.17123412369420177, 0.03951556700635426, 0.06146865978766218, 0.1624528865816786, 0.10098422679401643, 0.05268742267513901, 0.01975778350317713, 0.19538175670439853, 0.5716127427550172, 0.048441757860594674, 0.00645890104807929, 0.0048441757860594676, 0.11948966938946687, 0.020991428406257694, 0.03229450524039645, 0.3501395218594621, 0.3616572692890497, 0.05298163817610282, 0.01842839588734011, 0.01842839588734011, 0.1359094196691333, 0.006910648457752542, 0.055285187662020334, 0.13251097721296534, 0.10998411108676123, 0.11130922085889089, 0.16696383128833633, 0.08348191564416817, 0.10070834268185366, 0.10070834268185366, 0.07553125701139024, 0.07155592769500128, 0.047703951796667525, 0.21900877677438346, 0.12514787244250483, 0.06555364746988349, 0.08641162621030096, 0.03873624623220388, 0.16388411867470873, 0.07002321434283008, 0.11173917182366504, 0.03873624623220388, 0.08194205933735436, 0.13383656400844246, 0.06022645380379911, 0.09591620420605043, 0.24759764341561855, 0.033459141002110615, 0.03122853160196991, 0.2832873938178699, 0.09368559480590972, 0.011153047000703539, 0.00892243760056283, 0.19715048269072105, 0.1378139296478827, 0.04976614126173541, 0.1052745295921326, 0.05742247068661779, 0.022968988274647113, 0.17992374148473572, 0.022968988274647113, 0.09570411781102964, 0.1282435178667797, 0.19644962105557667, 0.1490647878361411, 0.07107724982915338, 0.1006927705913006, 0.18065467664909815, 0.09180811436265644, 0.06515414567672392, 0.05725667347348466, 0.0493592012702454, 0.03850017699079141, 0.045647043289636036, 0.1428950920371215, 0.007938616224284527, 0.043662389233564906, 0.1230485514764102, 0.06549358385034736, 0.11114062713998339, 0.08335547035498754, 0.3393758435881636, 0.035723773009280375, 0.1273162873904646, 0.08541472445183068, 0.06929873870620225, 0.1385974774124045, 0.1837222375001641, 0.15149026600890725, 0.1498786674343444, 0.045124760087759605, 0.001611598574562843, 0.04834795723688529, 0.1688309026969054, 0.04585530690533233, 0.10838527086714914, 0.20009588467781378, 0.06044563182975625, 0.12922859218775473, 0.08128895315036186, 0.06044563182975625, 0.012505992792363361, 0.1354815885839364, 0.08140051256475195, 0.028102557909259602, 0.20156317396986198, 0.09206010349585042, 0.11628644652107421, 0.2674588269984707, 0.013566752094125325, 0.07170997535466243, 0.1046578018689668, 0.023257289304214845, 0.16998235229026262, 0.09124052733227331, 0.038745977360280445, 0.11373819160598454, 0.023747534511139628, 0.01624831308656922, 0.0787418249579893, 0.20372884870082944, 0.11998754279312655, 0.14373507730426618, 0.2210332190869908, 0.13540773781905743, 0.06172999812339383, 0.08363419100588841, 0.039825805240899244, 0.07766032021975353, 0.10952096441247293, 0.1214687059847427, 0.08164290074384345, 0.06372128838543879, 0.37866562523187747, 0.10067697178784044, 0.09616904767793713, 0.07963999260829169, 0.013523772329709909, 0.06912150301851731, 0.1021796131578082, 0.06912150301851731, 0.012021130959742141, 0.07813735123832392, 0.02318582120735934, 0.021253669440079396, 0.04250733888015879, 0.18741872142615468, 0.20867239086623407, 0.25117972974639285, 0.0985397401312772, 0.11592910603679671, 0.04250733888015879, 0.005796455301839835, 0.16166797506215158, 0.11486935070205508, 0.02978094277460687, 0.3382264215116066, 0.03190815297279308, 0.02978094277460687, 0.11061493030568266, 0.00425442039637241, 0.027653732576420665, 0.15315913426940678, 0.17700853617307732, 0.08970027170932973, 0.06099618476234422, 0.12797238763864374, 0.17581253255028628, 0.11122833691956886, 0.03827211592931402, 0.0681722064990906, 0.09687629344607611, 0.05382016302559784, 0.06172414740091292, 0.08771326209603415, 0.12994557347560615, 0.03898367204268185, 0.12409802266920388, 0.10590564238261901, 0.05847550806402277, 0.22675502571493275, 0.12279856693444782, 0.04353176711432806, 0.21270286132086547, 0.23138622076121176, 0.06323598579809514, 0.06323598579809514, 0.08048216374303017, 0.13940660505489155, 0.041678263366926344, 0.030180811403636317, 0.04024108187151509, 0.09772834168796521, 0.3980313226720858, 0.0589086357554687, 0.14806765203401592, 0.014329127616195089, 0.0031842505813766864, 0.1432912761619509, 0.030250380523078522, 0.05413225988340367, 0.0477637587206503, 0.10508026918543065, 0.0816221962192669, 0.36380178886301817, 0.025652690240341027, 0.06529775697541353, 0.023320627491219114, 0.13292757669994895, 0.15158407869292423, 0.04664125498243823, 0.10727488645960792, 0.1346840114760394, 0.09246961981937032, 0.08442878331333813, 0.058296064668733466, 0.10051045632540252, 0.14473505710857965, 0.2070515400303292, 0.05427564641571736, 0.08241857418683007, 0.04221439165666906, 0.1280837186091114, 0.10918612078153761, 0.025196797103431756, 0.18897597827573817, 0.048293861114910866, 0.09028852295396379, 0.004199466183905293, 0.15538024880449583, 0.1910757113676908, 0.060892259666626744, 0.15296547828606794, 0.07765939666831141, 0.27376898421455237, 0.1145279991270047, 0.1451210947842183, 0.009413260202219565, 0.1145279991270047, 0.06353950636498207, 0.014119890303329347, 0.035299725758323366, 0.24721507911988497, 0.08013178426644547, 0.1756079527541252, 0.08524657900685689, 0.1040008263883654, 0.12957480009042247, 0.03921342634315417, 0.04091835792329131, 0.049443015823977, 0.04773808424383986, 0.40451312538038675, 0.05894914892477998, 0.07317825383765791, 0.0020327292732682752, 0.08537462947726757, 0.17278198822780338, 0.006098187819804825, 0.0487855025584386, 0.08537462947726757, 0.06301460747131653, 0.18735255904949055, 0.11955750100713212, 0.10810563309457158, 0.14383546098176048, 0.08703419613546017, 0.11589290327511274, 0.051304368248271254, 0.06321431087733423, 0.06550468445984634, 0.05817548899580759, 0.15145951674629934, 0.10010067413470324, 0.20870663430699563, 0.10926021294441464, 0.21950180504701267, 0.04579769404855703, 0.07556619518011912, 0.03892803994127348, 0.01537494014487272, 0.03500252330854002], \"Term\": [\"000\", \"000\", \"000\", \"000\", \"000\", \"000\", \"000\", \"000\", \"000\", \"000\", \"10\", \"10\", \"10\", \"10\", \"10\", \"10\", \"10\", \"10\", \"10\", \"10\", \"100\", \"100\", \"100\", \"100\", \"100\", \"100\", \"100\", \"100\", \"100\", \"100\", \"abuse\", \"abuse\", \"abuse\", \"abuse\", \"abuse\", \"abuse\", \"abuse\", \"abuse\", \"abuse\", \"abuse\", \"activist\", \"activist\", \"activist\", \"activist\", \"activist\", \"activist\", \"activist\", \"activist\", \"activist\", \"activist\", \"afghanistan\", \"afghanistan\", \"afghanistan\", \"afghanistan\", \"afghanistan\", \"afghanistan\", \"afghanistan\", \"air\", \"air\", \"air\", \"air\", \"air\", \"air\", \"air\", \"air\", \"air\", \"air\", \"al\", \"al\", \"al\", \"al\", \"al\", \"al\", \"al\", \"al\", \"al\", \"al\", \"allow\", \"allow\", \"allow\", \"allow\", \"allow\", \"allow\", \"allow\", \"allow\", \"allow\", \"allow\", \"american\", \"american\", \"american\", \"american\", \"american\", \"american\", \"american\", \"american\", \"american\", \"american\", \"amp\", \"amp\", \"amp\", \"amp\", \"amp\", \"amp\", \"amp\", \"amp\", \"anti\", \"anti\", \"anti\", \"anti\", \"anti\", \"anti\", \"anti\", \"anti\", \"anti\", \"anti\", \"army\", \"army\", \"army\", \"army\", \"army\", \"army\", \"army\", \"army\", \"army\", \"army\", \"arrest\", \"arrest\", \"arrest\", \"arrest\", \"arrest\", \"arrest\", \"arrest\", \"arrest\", \"arrest\", \"arrest\", \"attack\", \"attack\", \"attack\", \"attack\", \"attack\", \"attack\", \"attack\", \"attack\", \"attack\", \"attack\", \"bad\", \"bad\", \"bad\", \"bad\", \"bad\", \"bad\", \"bad\", \"bad\", \"bad\", \"bad\", \"ban\", \"ban\", \"ban\", \"ban\", \"ban\", \"ban\", \"ban\", \"ban\", \"ban\", \"ban\", \"bank\", \"bank\", \"bank\", \"bank\", \"bank\", \"bank\", \"bank\", \"bank\", \"bank\", \"bank\", \"big\", \"big\", \"big\", \"big\", \"big\", \"big\", \"big\", \"big\", \"big\", \"big\", \"billion\", \"billion\", \"billion\", \"billion\", \"billion\", \"billion\", \"billion\", \"billion\", \"billion\", \"billion\", \"bomb\", \"bomb\", \"bomb\", \"bomb\", \"bomb\", \"bomb\", \"bomb\", \"bomb\", \"bomb\", \"bomb\", \"border\", \"border\", \"border\", \"border\", \"border\", \"border\", \"border\", \"border\", \"border\", \"border\", \"british\", \"british\", \"british\", \"british\", \"british\", \"british\", \"british\", \"british\", \"british\", \"british\", \"build\", \"build\", \"build\", \"build\", \"build\", \"build\", \"build\", \"build\", \"build\", \"build\", \"call\", \"call\", \"call\", \"call\", \"call\", \"call\", \"call\", \"call\", \"call\", \"call\", \"canada\", \"canada\", \"canada\", \"canada\", \"canada\", \"canada\", \"canada\", \"canada\", \"canada\", \"canada\", \"case\", \"case\", \"case\", \"case\", \"case\", \"case\", \"case\", \"case\", \"case\", \"case\", \"change\", \"change\", \"change\", \"change\", \"change\", \"change\", \"change\", \"change\", \"change\", \"change\", \"charge\", \"charge\", \"charge\", \"charge\", \"charge\", \"charge\", \"charge\", \"charge\", \"charge\", \"charge\", \"child\", \"child\", \"child\", \"child\", \"child\", \"child\", \"child\", \"child\", \"child\", \"child\", \"china\", \"china\", \"china\", \"china\", \"china\", \"china\", \"china\", \"china\", \"china\", \"china\", \"chinese\", \"chinese\", \"chinese\", \"chinese\", \"chinese\", \"chinese\", \"chinese\", \"chinese\", \"chinese\", \"chinese\", \"city\", \"city\", \"city\", \"city\", \"city\", \"city\", \"city\", \"city\", \"city\", \"city\", \"company\", \"company\", \"company\", \"company\", \"company\", \"company\", \"company\", \"company\", \"company\", \"company\", \"country\", \"country\", \"country\", \"country\", \"country\", \"country\", \"country\", \"country\", \"country\", \"country\", \"court\", \"court\", \"court\", \"court\", \"court\", \"court\", \"court\", \"court\", \"court\", \"court\", \"crime\", \"crime\", \"crime\", \"crime\", \"crime\", \"crime\", \"crime\", \"crime\", \"crime\", \"crime\", \"crisis\", \"crisis\", \"crisis\", \"crisis\", \"crisis\", \"crisis\", \"crisis\", \"crisis\", \"crisis\", \"crisis\", \"cut\", \"cut\", \"cut\", \"cut\", \"cut\", \"cut\", \"cut\", \"cut\", \"cut\", \"cut\", \"day\", \"day\", \"day\", \"day\", \"day\", \"day\", \"day\", \"day\", \"day\", \"day\", \"dead\", \"dead\", \"dead\", \"dead\", \"dead\", \"dead\", \"dead\", \"dead\", \"dead\", \"dead\", \"death\", \"death\", \"death\", \"death\", \"death\", \"death\", \"death\", \"death\", \"death\", \"death\", \"demand\", \"demand\", \"demand\", \"demand\", \"demand\", \"demand\", \"demand\", \"demand\", \"demand\", \"demand\", \"die\", \"die\", \"die\", \"die\", \"die\", \"die\", \"die\", \"die\", \"die\", \"die\", \"drug\", \"drug\", \"drug\", \"drug\", \"drug\", \"drug\", \"drug\", \"drug\", \"drug\", \"drug\", \"election\", \"election\", \"election\", \"election\", \"election\", \"election\", \"election\", \"election\", \"election\", \"election\", \"eu\", \"eu\", \"eu\", \"eu\", \"eu\", \"eu\", \"eu\", \"eu\", \"eu\", \"eu\", \"europe\", \"europe\", \"europe\", \"europe\", \"europe\", \"europe\", \"europe\", \"europe\", \"europe\", \"europe\", \"european\", \"european\", \"european\", \"european\", \"european\", \"european\", \"european\", \"european\", \"european\", \"european\", \"face\", \"face\", \"face\", \"face\", \"face\", \"face\", \"face\", \"face\", \"face\", \"face\", \"family\", \"family\", \"family\", \"family\", \"family\", \"family\", \"family\", \"family\", \"family\", \"family\", \"fight\", \"fight\", \"fight\", \"fight\", \"fight\", \"fight\", \"fight\", \"fight\", \"fight\", \"fight\", \"find\", \"find\", \"find\", \"find\", \"find\", \"find\", \"find\", \"find\", \"find\", \"find\", \"fire\", \"fire\", \"fire\", \"fire\", \"fire\", \"fire\", \"fire\", \"fire\", \"fire\", \"fire\", \"food\", \"food\", \"food\", \"food\", \"food\", \"food\", \"food\", \"food\", \"food\", \"food\", \"force\", \"force\", \"force\", \"force\", \"force\", \"force\", \"force\", \"force\", \"force\", \"force\", \"foreign\", \"foreign\", \"foreign\", \"foreign\", \"foreign\", \"foreign\", \"foreign\", \"foreign\", \"foreign\", \"foreign\", \"french\", \"french\", \"french\", \"french\", \"french\", \"french\", \"french\", \"french\", \"french\", \"french\", \"gay\", \"gay\", \"gay\", \"gay\", \"gay\", \"gay\", \"gay\", \"gay\", \"gay\", \"gay\", \"gaza\", \"gaza\", \"german\", \"german\", \"german\", \"german\", \"german\", \"german\", \"german\", \"german\", \"german\", \"german\", \"germany\", \"germany\", \"germany\", \"germany\", \"germany\", \"germany\", \"germany\", \"germany\", \"germany\", \"germany\", \"get\", \"get\", \"get\", \"get\", \"get\", \"get\", \"get\", \"get\", \"get\", \"get\", \"girl\", \"girl\", \"girl\", \"girl\", \"girl\", \"girl\", \"girl\", \"girl\", \"girl\", \"girl\", \"give\", \"give\", \"give\", \"give\", \"give\", \"give\", \"give\", \"give\", \"give\", \"give\", \"global\", \"global\", \"global\", \"global\", \"global\", \"global\", \"global\", \"global\", \"global\", \"global\", \"go\", \"go\", \"go\", \"go\", \"go\", \"go\", \"go\", \"go\", \"go\", \"go\", \"government\", \"government\", \"government\", \"government\", \"government\", \"government\", \"government\", \"government\", \"government\", \"government\", \"group\", \"group\", \"group\", \"group\", \"group\", \"group\", \"group\", \"group\", \"group\", \"group\", \"hold\", \"hold\", \"hold\", \"hold\", \"hold\", \"hold\", \"hold\", \"hold\", \"hold\", \"hold\", \"home\", \"home\", \"home\", \"home\", \"home\", \"home\", \"home\", \"home\", \"home\", \"home\", \"human\", \"human\", \"human\", \"human\", \"human\", \"human\", \"human\", \"human\", \"human\", \"human\", \"ina\", \"ina\", \"ina\", \"ina\", \"ina\", \"ina\", \"ina\", \"ina\", \"ina\", \"india\", \"india\", \"india\", \"india\", \"india\", \"india\", \"india\", \"india\", \"india\", \"india\", \"international\", \"international\", \"international\", \"international\", \"international\", \"international\", \"international\", \"international\", \"international\", \"international\", \"internet\", \"internet\", \"internet\", \"internet\", \"internet\", \"internet\", \"internet\", \"internet\", \"internet\", \"internet\", \"iran\", \"iran\", \"iran\", \"iran\", \"iran\", \"iran\", \"iran\", \"iran\", \"iran\", \"iran\", \"iraq\", \"iraq\", \"iraq\", \"iraq\", \"iraq\", \"iraq\", \"iraq\", \"iraq\", \"iraq\", \"iraq\", \"islamic\", \"islamic\", \"islamic\", \"islamic\", \"islamic\", \"islamic\", \"islamic\", \"islamic\", \"islamic\", \"islamic\", \"israel\", \"israel\", \"israel\", \"israel\", \"israel\", \"israel\", \"israel\", \"israel\", \"israel\", \"israel\", \"israeli\", \"israeli\", \"israeli\", \"israeli\", \"israeli\", \"israeli\", \"israeli\", \"israeli\", \"israeli\", \"israeli\", \"jail\", \"jail\", \"jail\", \"jail\", \"jail\", \"jail\", \"jail\", \"jail\", \"jail\", \"jail\", \"japan\", \"japan\", \"japan\", \"japan\", \"japan\", \"japan\", \"japan\", \"japan\", \"japan\", \"japan\", \"kill\", \"kill\", \"kill\", \"kill\", \"kill\", \"kill\", \"kill\", \"kill\", \"kill\", \"kill\", \"know\", \"know\", \"know\", \"know\", \"know\", \"know\", \"know\", \"know\", \"know\", \"know\", \"korea\", \"korea\", \"korea\", \"korea\", \"korea\", \"korea\", \"korea\", \"korea\", \"korea\", \"korea\", \"land\", \"land\", \"land\", \"land\", \"land\", \"land\", \"land\", \"land\", \"land\", \"land\", \"large\", \"large\", \"large\", \"large\", \"large\", \"large\", \"large\", \"large\", \"large\", \"large\", \"launch\", \"launch\", \"launch\", \"launch\", \"launch\", \"launch\", \"launch\", \"launch\", \"launch\", \"launch\", \"law\", \"law\", \"law\", \"law\", \"law\", \"law\", \"law\", \"law\", \"law\", \"law\", \"lead\", \"lead\", \"lead\", \"lead\", \"lead\", \"lead\", \"lead\", \"lead\", \"lead\", \"lead\", \"leader\", \"leader\", \"leader\", \"leader\", \"leader\", \"leader\", \"leader\", \"leader\", \"leader\", \"leader\", \"life\", \"life\", \"life\", \"life\", \"life\", \"life\", \"life\", \"life\", \"life\", \"life\", \"like\", \"like\", \"like\", \"like\", \"like\", \"like\", \"like\", \"like\", \"like\", \"like\", \"live\", \"live\", \"live\", \"live\", \"live\", \"live\", \"live\", \"live\", \"live\", \"live\", \"lose\", \"lose\", \"lose\", \"lose\", \"lose\", \"lose\", \"lose\", \"lose\", \"lose\", \"lose\", \"man\", \"man\", \"man\", \"man\", \"man\", \"man\", \"man\", \"man\", \"man\", \"man\", \"military\", \"military\", \"military\", \"military\", \"military\", \"military\", \"military\", \"military\", \"military\", \"military\", \"million\", \"million\", \"million\", \"million\", \"million\", \"million\", \"million\", \"million\", \"million\", \"million\", \"minister\", \"minister\", \"minister\", \"minister\", \"minister\", \"minister\", \"minister\", \"minister\", \"minister\", \"minister\", \"month\", \"month\", \"month\", \"month\", \"month\", \"month\", \"month\", \"month\", \"month\", \"month\", \"murder\", \"murder\", \"murder\", \"murder\", \"murder\", \"murder\", \"murder\", \"murder\", \"murder\", \"murder\", \"national\", \"national\", \"national\", \"national\", \"national\", \"national\", \"national\", \"national\", \"national\", \"national\", \"near\", \"near\", \"near\", \"near\", \"near\", \"near\", \"near\", \"near\", \"near\", \"near\", \"new\", \"new\", \"new\", \"new\", \"new\", \"new\", \"new\", \"new\", \"new\", \"new\", \"news\", \"news\", \"news\", \"news\", \"news\", \"news\", \"news\", \"news\", \"news\", \"news\", \"north\", \"north\", \"north\", \"north\", \"north\", \"north\", \"north\", \"north\", \"north\", \"north\", \"nuclear\", \"nuclear\", \"nuclear\", \"nuclear\", \"nuclear\", \"nuclear\", \"nuclear\", \"nuclear\", \"nuclear\", \"nuclear\", \"official\", \"official\", \"official\", \"official\", \"official\", \"official\", \"official\", \"official\", \"official\", \"official\", \"oil\", \"oil\", \"oil\", \"oil\", \"oil\", \"oil\", \"oil\", \"oil\", \"oil\", \"oil\", \"old\", \"old\", \"old\", \"old\", \"old\", \"old\", \"old\", \"old\", \"old\", \"old\", \"open\", \"open\", \"open\", \"open\", \"open\", \"open\", \"open\", \"open\", \"open\", \"open\", \"pakistan\", \"pakistan\", \"pakistan\", \"pakistan\", \"pakistan\", \"pakistan\", \"pakistan\", \"pakistan\", \"pakistan\", \"pakistan\", \"palestinian\", \"palestinian\", \"palestinian\", \"palestinian\", \"palestinian\", \"palestinian\", \"palestinian\", \"palestinian\", \"palestinian\", \"palestinian\", \"parliament\", \"parliament\", \"parliament\", \"parliament\", \"parliament\", \"parliament\", \"parliament\", \"parliament\", \"parliament\", \"parliament\", \"party\", \"party\", \"party\", \"party\", \"party\", \"party\", \"party\", \"party\", \"party\", \"party\", \"pay\", \"pay\", \"pay\", \"pay\", \"pay\", \"pay\", \"pay\", \"pay\", \"pay\", \"pay\", \"people\", \"people\", \"people\", \"people\", \"people\", \"people\", \"people\", \"people\", \"people\", \"people\", \"plan\", \"plan\", \"plan\", \"plan\", \"plan\", \"plan\", \"plan\", \"plan\", \"plan\", \"plan\", \"police\", \"police\", \"police\", \"police\", \"police\", \"police\", \"police\", \"police\", \"police\", \"police\", \"power\", \"power\", \"power\", \"power\", \"power\", \"power\", \"power\", \"power\", \"power\", \"power\", \"president\", \"president\", \"president\", \"president\", \"president\", \"president\", \"president\", \"president\", \"president\", \"president\", \"prime\", \"prime\", \"prime\", \"prime\", \"prime\", \"prime\", \"prime\", \"prime\", \"prime\", \"prime\", \"prison\", \"prison\", \"prison\", \"prison\", \"prison\", \"prison\", \"prison\", \"prison\", \"prison\", \"prison\", \"protest\", \"protest\", \"protest\", \"protest\", \"protest\", \"protest\", \"protest\", \"protest\", \"protest\", \"protest\", \"protester\", \"protester\", \"protester\", \"protester\", \"protester\", \"protester\", \"protester\", \"protester\", \"public\", \"public\", \"public\", \"public\", \"public\", \"public\", \"public\", \"public\", \"public\", \"public\", \"rape\", \"rape\", \"rape\", \"rape\", \"rape\", \"rape\", \"rape\", \"rape\", \"rape\", \"record\", \"record\", \"record\", \"record\", \"record\", \"record\", \"record\", \"record\", \"record\", \"record\", \"release\", \"release\", \"release\", \"release\", \"release\", \"release\", \"release\", \"release\", \"release\", \"release\", \"report\", \"report\", \"report\", \"report\", \"report\", \"report\", \"report\", \"report\", \"report\", \"report\", \"reveal\", \"reveal\", \"reveal\", \"reveal\", \"reveal\", \"reveal\", \"reveal\", \"reveal\", \"reveal\", \"reveal\", \"right\", \"right\", \"right\", \"right\", \"right\", \"right\", \"right\", \"right\", \"right\", \"right\", \"rise\", \"rise\", \"rise\", \"rise\", \"rise\", \"rise\", \"rise\", \"rise\", \"rise\", \"rise\", \"rule\", \"rule\", \"rule\", \"rule\", \"rule\", \"rule\", \"rule\", \"rule\", \"rule\", \"rule\", \"run\", \"run\", \"run\", \"run\", \"run\", \"run\", \"run\", \"run\", \"run\", \"run\", \"russia\", \"russia\", \"russia\", \"russia\", \"russia\", \"russia\", \"russia\", \"russia\", \"russia\", \"russia\", \"russian\", \"russian\", \"russian\", \"russian\", \"russian\", \"russian\", \"russian\", \"russian\", \"russian\", \"russian\", \"saudi\", \"saudi\", \"saudi\", \"saudi\", \"saudi\", \"saudi\", \"saudi\", \"saudi\", \"saudi\", \"saudi\", \"say\", \"say\", \"say\", \"say\", \"say\", \"say\", \"say\", \"say\", \"say\", \"say\", \"school\", \"school\", \"school\", \"school\", \"school\", \"school\", \"school\", \"school\", \"school\", \"school\", \"secret\", \"secret\", \"secret\", \"secret\", \"secret\", \"secret\", \"secret\", \"secret\", \"secret\", \"secret\", \"security\", \"security\", \"security\", \"security\", \"security\", \"security\", \"security\", \"security\", \"security\", \"security\", \"send\", \"send\", \"send\", \"send\", \"send\", \"send\", \"send\", \"send\", \"send\", \"send\", \"sentence\", \"sentence\", \"sentence\", \"sentence\", \"sentence\", \"sentence\", \"sentence\", \"sentence\", \"sentence\", \"set\", \"set\", \"set\", \"set\", \"set\", \"set\", \"set\", \"set\", \"set\", \"set\", \"sex\", \"sex\", \"sex\", \"sex\", \"sex\", \"sex\", \"sex\", \"sex\", \"sex\", \"sex\", \"shoot\", \"shoot\", \"shoot\", \"shoot\", \"shoot\", \"shoot\", \"shoot\", \"shoot\", \"shoot\", \"shoot\", \"show\", \"show\", \"show\", \"show\", \"show\", \"show\", \"show\", \"show\", \"show\", \"show\", \"soldier\", \"soldier\", \"soldier\", \"soldier\", \"soldier\", \"soldier\", \"soldier\", \"soldier\", \"soldier\", \"soldier\", \"south\", \"south\", \"south\", \"south\", \"south\", \"south\", \"south\", \"south\", \"south\", \"south\", \"spy\", \"spy\", \"spy\", \"spy\", \"spy\", \"spy\", \"spy\", \"spy\", \"spy\", \"ssia\", \"ssia\", \"ssia\", \"ssia\", \"ssia\", \"ssia\", \"ssia\", \"ssia\", \"state\", \"state\", \"state\", \"state\", \"state\", \"state\", \"state\", \"state\", \"state\", \"state\", \"stop\", \"stop\", \"stop\", \"stop\", \"stop\", \"stop\", \"stop\", \"stop\", \"stop\", \"stop\", \"strike\", \"strike\", \"strike\", \"strike\", \"strike\", \"strike\", \"strike\", \"strike\", \"strike\", \"strike\", \"support\", \"support\", \"support\", \"support\", \"support\", \"support\", \"support\", \"support\", \"support\", \"support\", \"syria\", \"syria\", \"syria\", \"syria\", \"syria\", \"syria\", \"syria\", \"syria\", \"syrian\", \"syrian\", \"syrian\", \"syrian\", \"syrian\", \"syrian\", \"syrian\", \"syrian\", \"take\", \"take\", \"take\", \"take\", \"take\", \"take\", \"take\", \"take\", \"take\", \"take\", \"tell\", \"tell\", \"tell\", \"tell\", \"tell\", \"tell\", \"tell\", \"tell\", \"tell\", \"tell\", \"thousand\", \"thousand\", \"thousand\", \"thousand\", \"thousand\", \"thousand\", \"thousand\", \"thousand\", \"thousand\", \"thousand\", \"threaten\", \"threaten\", \"threaten\", \"threaten\", \"threaten\", \"threaten\", \"threaten\", \"threaten\", \"threaten\", \"threaten\", \"time\", \"time\", \"time\", \"time\", \"time\", \"time\", \"time\", \"time\", \"time\", \"time\", \"troop\", \"troop\", \"troop\", \"troop\", \"troop\", \"troop\", \"troop\", \"troop\", \"troop\", \"troop\", \"try\", \"try\", \"try\", \"try\", \"try\", \"try\", \"try\", \"try\", \"try\", \"try\", \"turn\", \"turn\", \"turn\", \"turn\", \"turn\", \"turn\", \"turn\", \"turn\", \"turn\", \"turn\", \"uk\", \"uk\", \"uk\", \"uk\", \"uk\", \"uk\", \"uk\", \"uk\", \"uk\", \"uk\", \"un\", \"un\", \"un\", \"un\", \"un\", \"un\", \"un\", \"un\", \"un\", \"un\", \"united\", \"united\", \"united\", \"united\", \"united\", \"united\", \"united\", \"united\", \"united\", \"united\", \"use\", \"use\", \"use\", \"use\", \"use\", \"use\", \"use\", \"use\", \"use\", \"use\", \"video\", \"video\", \"video\", \"video\", \"video\", \"video\", \"video\", \"video\", \"video\", \"video\", \"vote\", \"vote\", \"vote\", \"vote\", \"vote\", \"vote\", \"vote\", \"vote\", \"vote\", \"vote\", \"want\", \"want\", \"want\", \"want\", \"want\", \"want\", \"want\", \"want\", \"want\", \"want\", \"war\", \"war\", \"war\", \"war\", \"war\", \"war\", \"war\", \"war\", \"war\", \"war\", \"warn\", \"warn\", \"warn\", \"warn\", \"warn\", \"warn\", \"warn\", \"warn\", \"warn\", \"warn\", \"water\", \"water\", \"water\", \"water\", \"water\", \"water\", \"water\", \"water\", \"water\", \"water\", \"weapon\", \"weapon\", \"weapon\", \"weapon\", \"weapon\", \"weapon\", \"weapon\", \"weapon\", \"weapon\", \"week\", \"week\", \"week\", \"week\", \"week\", \"week\", \"week\", \"week\", \"week\", \"week\", \"west\", \"west\", \"west\", \"west\", \"west\", \"west\", \"west\", \"west\", \"west\", \"west\", \"woman\", \"woman\", \"woman\", \"woman\", \"woman\", \"woman\", \"woman\", \"woman\", \"woman\", \"woman\", \"work\", \"work\", \"work\", \"work\", \"work\", \"work\", \"work\", \"work\", \"work\", \"work\", \"worker\", \"worker\", \"worker\", \"worker\", \"worker\", \"worker\", \"worker\", \"worker\", \"worker\", \"worker\", \"world\", \"world\", \"world\", \"world\", \"world\", \"world\", \"world\", \"world\", \"world\", \"world\", \"year\", \"year\", \"year\", \"year\", \"year\", \"year\", \"year\", \"year\", \"year\", \"year\"]}, \"R\": 30, \"lambda.step\": 0.01, \"plot.opts\": {\"xlab\": \"PC1\", \"ylab\": \"PC2\"}, \"topic.order\": [2, 7, 6, 9, 5, 3, 8, 1, 10, 4]};\n",
       "\n",
       "function LDAvis_load_lib(url, callback){\n",
       "  var s = document.createElement('script');\n",
       "  s.src = url;\n",
       "  s.async = true;\n",
       "  s.onreadystatechange = s.onload = callback;\n",
       "  s.onerror = function(){console.warn(\"failed to load library \" + url);};\n",
       "  document.getElementsByTagName(\"head\")[0].appendChild(s);\n",
       "}\n",
       "\n",
       "if(typeof(LDAvis) !== \"undefined\"){\n",
       "   // already loaded: just create the visualization\n",
       "   !function(LDAvis){\n",
       "       new LDAvis(\"#\" + \"ldavis_el1162425020783635686177365967\", ldavis_el1162425020783635686177365967_data);\n",
       "   }(LDAvis);\n",
       "}else if(typeof define === \"function\" && define.amd){\n",
       "   // require.js is available: use it to load d3/LDAvis\n",
       "   require.config({paths: {d3: \"https://d3js.org/d3.v5\"}});\n",
       "   require([\"d3\"], function(d3){\n",
       "      window.d3 = d3;\n",
       "      LDAvis_load_lib(\"https://cdn.jsdelivr.net/gh/bmabey/pyLDAvis@3.4.0/pyLDAvis/js/ldavis.v3.0.0.js\", function(){\n",
       "        new LDAvis(\"#\" + \"ldavis_el1162425020783635686177365967\", ldavis_el1162425020783635686177365967_data);\n",
       "      });\n",
       "    });\n",
       "}else{\n",
       "    // require.js not available: dynamically load d3 & LDAvis\n",
       "    LDAvis_load_lib(\"https://d3js.org/d3.v5.js\", function(){\n",
       "         LDAvis_load_lib(\"https://cdn.jsdelivr.net/gh/bmabey/pyLDAvis@3.4.0/pyLDAvis/js/ldavis.v3.0.0.js\", function(){\n",
       "                 new LDAvis(\"#\" + \"ldavis_el1162425020783635686177365967\", ldavis_el1162425020783635686177365967_data);\n",
       "            })\n",
       "         });\n",
       "}\n",
       "</script>"
      ],
      "text/plain": [
       "<IPython.core.display.HTML object>"
      ]
     },
     "execution_count": 40,
     "metadata": {},
     "output_type": "execute_result"
    }
   ],
   "source": [
    "panel = pyLDAvis.lda_model.prepare(lda, dtm, cnt, mds='tsne')\n",
    "pyLDAvis.display(panel)"
   ]
  },
  {
   "cell_type": "code",
   "execution_count": 45,
   "metadata": {},
   "outputs": [
    {
     "name": "stdout",
     "output_type": "stream",
     "text": [
      "Longueur de topic_weights: 1985\n",
      "Longueur de djia['Daily_Returns']: 1989\n"
     ]
    }
   ],
   "source": [
    "print(\"Longueur de topic_weights:\", len(topic_weights))\n",
    "print(\"Longueur de djia['Daily_Returns']:\", len(djia['Daily_Returns']))\n"
   ]
  },
  {
   "cell_type": "code",
   "execution_count": 59,
   "metadata": {},
   "outputs": [
    {
     "name": "stdout",
     "output_type": "stream",
     "text": [
      "1985\n",
      "1989\n"
     ]
    }
   ],
   "source": [
    "print(len(topic_weights))\n",
    "print(len(djia['Daily_Returns']))"
   ]
  },
  {
   "cell_type": "code",
   "execution_count": 60,
   "metadata": {},
   "outputs": [
    {
     "name": "stdout",
     "output_type": "stream",
     "text": [
      "1985\n"
     ]
    }
   ],
   "source": [
    "# Enlever les quatre dernières valeurs\n",
    "djia_reduced = djia.iloc[:-4]\n",
    "\n",
    "# Vérifier la longueur après la suppression\n",
    "print(len(djia_reduced['Daily_Returns']))\n"
   ]
  },
  {
   "cell_type": "code",
   "execution_count": 62,
   "metadata": {},
   "outputs": [
    {
     "name": "stdout",
     "output_type": "stream",
     "text": [
      "1\n"
     ]
    }
   ],
   "source": [
    "# Vérifiez si des valeurs NaN sont présentes\n",
    "print(djia_reduced['Daily_Returns'].isna().sum())\n"
   ]
  },
  {
   "cell_type": "code",
   "execution_count": 65,
   "metadata": {},
   "outputs": [
    {
     "name": "stderr",
     "output_type": "stream",
     "text": [
      "C:\\Users\\paull\\AppData\\Local\\Temp\\ipykernel_11624\\3547204034.py:2: SettingWithCopyWarning: \n",
      "A value is trying to be set on a copy of a slice from a DataFrame\n",
      "\n",
      "See the caveats in the documentation: https://pandas.pydata.org/pandas-docs/stable/user_guide/indexing.html#returning-a-view-versus-a-copy\n",
      "  djia_reduced['Daily_Returns'].fillna(mean_value, inplace=True)\n"
     ]
    }
   ],
   "source": [
    "mean_value = djia_reduced['Daily_Returns'].mean()\n",
    "djia_reduced['Daily_Returns'].fillna(mean_value, inplace=True)\n"
   ]
  },
  {
   "cell_type": "code",
   "execution_count": 76,
   "metadata": {},
   "outputs": [
    {
     "name": "stdout",
     "output_type": "stream",
     "text": [
      "AUC Score (LDA): 0.4998304701627486\n",
      "Précision (LDA): 0.5285234899328859\n"
     ]
    }
   ],
   "source": [
    "from sklearn.model_selection import train_test_split\n",
    "from sklearn.linear_model import LogisticRegression\n",
    "from sklearn.metrics import roc_auc_score\n",
    "\n",
    "\n",
    "X_train_lda, X_test_lda, y_train_lda, y_test_lda = train_test_split(topic_weights, djia_reduced['Daily_Returns_Binary'], test_size=0.3, random_state=0)\n",
    "lr_lda = LogisticRegression()\n",
    "lr_lda.fit(X_train_lda, y_train_lda)\n",
    "\n",
    "y_pred_prob_lda = lr_lda.predict_proba(X_test_lda)[:, 1]\n",
    "y_pred_lda = lr_lda.predict(X_test_lda)\n",
    "\n",
    "auc_score_lda = roc_auc_score(y_test_lda, y_pred_prob_lda)\n",
    "accuracy_lda = metrics.accuracy_score(y_test_lda, y_pred_lda)\n",
    "\n",
    "print(\"AUC Score (LDA):\", auc_score_lda)\n",
    "print(\"Précision (LDA):\", accuracy_lda)\n"
   ]
  },
  {
   "cell_type": "code",
   "execution_count": 75,
   "metadata": {},
   "outputs": [
    {
     "ename": "ValueError",
     "evalue": "operands could not be broadcast together with shapes (596,) (377,) ",
     "output_type": "error",
     "traceback": [
      "\u001b[1;31m---------------------------------------------------------------------------\u001b[0m",
      "\u001b[1;31mValueError\u001b[0m                                Traceback (most recent call last)",
      "\u001b[1;32md:\\VSCodeWrokSpace\\DATAA5\\TD-Copy1.ipynb Cell 44\u001b[0m line \u001b[0;36m1\n\u001b[1;32m----> <a href='vscode-notebook-cell:/d%3A/VSCodeWrokSpace/DATAA5/TD-Copy1.ipynb#Y103sZmlsZQ%3D%3D?line=0'>1</a>\u001b[0m predicted_returns \u001b[39m=\u001b[39m (y_pred_lda \u001b[39m*\u001b[39;49m \u001b[39m2\u001b[39;49m \u001b[39m-\u001b[39;49m \u001b[39m1\u001b[39;49m) \u001b[39m*\u001b[39;49m newdf_test[\u001b[39m'\u001b[39;49m\u001b[39mDaily_Returns\u001b[39;49m\u001b[39m'\u001b[39;49m]\n\u001b[0;32m      <a href='vscode-notebook-cell:/d%3A/VSCodeWrokSpace/DATAA5/TD-Copy1.ipynb#Y103sZmlsZQ%3D%3D?line=2'>3</a>\u001b[0m mean_return \u001b[39m=\u001b[39m np\u001b[39m.\u001b[39mmean(predicted_returns)\n\u001b[0;32m      <a href='vscode-notebook-cell:/d%3A/VSCodeWrokSpace/DATAA5/TD-Copy1.ipynb#Y103sZmlsZQ%3D%3D?line=3'>4</a>\u001b[0m std_return \u001b[39m=\u001b[39m np\u001b[39m.\u001b[39mstd(predicted_returns)\n",
      "File \u001b[1;32m~\\AppData\\Roaming\\Python\\Python39\\site-packages\\pandas\\core\\generic.py:2016\u001b[0m, in \u001b[0;36mNDFrame.__array_ufunc__\u001b[1;34m(self, ufunc, method, *inputs, **kwargs)\u001b[0m\n\u001b[0;32m   2012\u001b[0m \u001b[39m@final\u001b[39m\n\u001b[0;32m   2013\u001b[0m \u001b[39mdef\u001b[39;00m \u001b[39m__array_ufunc__\u001b[39m(\n\u001b[0;32m   2014\u001b[0m     \u001b[39mself\u001b[39m, ufunc: np\u001b[39m.\u001b[39mufunc, method: \u001b[39mstr\u001b[39m, \u001b[39m*\u001b[39minputs: Any, \u001b[39m*\u001b[39m\u001b[39m*\u001b[39mkwargs: Any\n\u001b[0;32m   2015\u001b[0m ):\n\u001b[1;32m-> 2016\u001b[0m     \u001b[39mreturn\u001b[39;00m arraylike\u001b[39m.\u001b[39marray_ufunc(\u001b[39mself\u001b[39m, ufunc, method, \u001b[39m*\u001b[39minputs, \u001b[39m*\u001b[39m\u001b[39m*\u001b[39mkwargs)\n",
      "File \u001b[1;32m~\\AppData\\Roaming\\Python\\Python39\\site-packages\\pandas\\core\\arraylike.py:273\u001b[0m, in \u001b[0;36marray_ufunc\u001b[1;34m(self, ufunc, method, *inputs, **kwargs)\u001b[0m\n\u001b[0;32m    270\u001b[0m kwargs \u001b[39m=\u001b[39m _standardize_out_kwarg(\u001b[39m*\u001b[39m\u001b[39m*\u001b[39mkwargs)\n\u001b[0;32m    272\u001b[0m \u001b[39m# for binary ops, use our custom dunder methods\u001b[39;00m\n\u001b[1;32m--> 273\u001b[0m result \u001b[39m=\u001b[39m maybe_dispatch_ufunc_to_dunder_op(\u001b[39mself\u001b[39m, ufunc, method, \u001b[39m*\u001b[39minputs, \u001b[39m*\u001b[39m\u001b[39m*\u001b[39mkwargs)\n\u001b[0;32m    274\u001b[0m \u001b[39mif\u001b[39;00m result \u001b[39mis\u001b[39;00m \u001b[39mnot\u001b[39;00m \u001b[39mNotImplemented\u001b[39m:\n\u001b[0;32m    275\u001b[0m     \u001b[39mreturn\u001b[39;00m result\n",
      "File \u001b[1;32m~\\AppData\\Roaming\\Python\\Python39\\site-packages\\pandas\\_libs\\ops_dispatch.pyx:113\u001b[0m, in \u001b[0;36mpandas._libs.ops_dispatch.maybe_dispatch_ufunc_to_dunder_op\u001b[1;34m()\u001b[0m\n",
      "File \u001b[1;32m~\\AppData\\Roaming\\Python\\Python39\\site-packages\\pandas\\core\\ops\\common.py:81\u001b[0m, in \u001b[0;36m_unpack_zerodim_and_defer.<locals>.new_method\u001b[1;34m(self, other)\u001b[0m\n\u001b[0;32m     77\u001b[0m             \u001b[39mreturn\u001b[39;00m \u001b[39mNotImplemented\u001b[39m\n\u001b[0;32m     79\u001b[0m other \u001b[39m=\u001b[39m item_from_zerodim(other)\n\u001b[1;32m---> 81\u001b[0m \u001b[39mreturn\u001b[39;00m method(\u001b[39mself\u001b[39;49m, other)\n",
      "File \u001b[1;32m~\\AppData\\Roaming\\Python\\Python39\\site-packages\\pandas\\core\\arraylike.py:206\u001b[0m, in \u001b[0;36mOpsMixin.__rmul__\u001b[1;34m(self, other)\u001b[0m\n\u001b[0;32m    204\u001b[0m \u001b[39m@unpack_zerodim_and_defer\u001b[39m(\u001b[39m\"\u001b[39m\u001b[39m__rmul__\u001b[39m\u001b[39m\"\u001b[39m)\n\u001b[0;32m    205\u001b[0m \u001b[39mdef\u001b[39;00m \u001b[39m__rmul__\u001b[39m(\u001b[39mself\u001b[39m, other):\n\u001b[1;32m--> 206\u001b[0m     \u001b[39mreturn\u001b[39;00m \u001b[39mself\u001b[39;49m\u001b[39m.\u001b[39;49m_arith_method(other, roperator\u001b[39m.\u001b[39;49mrmul)\n",
      "File \u001b[1;32m~\\AppData\\Roaming\\Python\\Python39\\site-packages\\pandas\\core\\series.py:6108\u001b[0m, in \u001b[0;36mSeries._arith_method\u001b[1;34m(self, other, op)\u001b[0m\n\u001b[0;32m   6106\u001b[0m \u001b[39mdef\u001b[39;00m \u001b[39m_arith_method\u001b[39m(\u001b[39mself\u001b[39m, other, op):\n\u001b[0;32m   6107\u001b[0m     \u001b[39mself\u001b[39m, other \u001b[39m=\u001b[39m ops\u001b[39m.\u001b[39malign_method_SERIES(\u001b[39mself\u001b[39m, other)\n\u001b[1;32m-> 6108\u001b[0m     \u001b[39mreturn\u001b[39;00m base\u001b[39m.\u001b[39;49mIndexOpsMixin\u001b[39m.\u001b[39;49m_arith_method(\u001b[39mself\u001b[39;49m, other, op)\n",
      "File \u001b[1;32m~\\AppData\\Roaming\\Python\\Python39\\site-packages\\pandas\\core\\base.py:1348\u001b[0m, in \u001b[0;36mIndexOpsMixin._arith_method\u001b[1;34m(self, other, op)\u001b[0m\n\u001b[0;32m   1345\u001b[0m rvalues \u001b[39m=\u001b[39m ensure_wrapped_if_datetimelike(rvalues)\n\u001b[0;32m   1347\u001b[0m \u001b[39mwith\u001b[39;00m np\u001b[39m.\u001b[39merrstate(\u001b[39mall\u001b[39m\u001b[39m=\u001b[39m\u001b[39m\"\u001b[39m\u001b[39mignore\u001b[39m\u001b[39m\"\u001b[39m):\n\u001b[1;32m-> 1348\u001b[0m     result \u001b[39m=\u001b[39m ops\u001b[39m.\u001b[39;49marithmetic_op(lvalues, rvalues, op)\n\u001b[0;32m   1350\u001b[0m \u001b[39mreturn\u001b[39;00m \u001b[39mself\u001b[39m\u001b[39m.\u001b[39m_construct_result(result, name\u001b[39m=\u001b[39mres_name)\n",
      "File \u001b[1;32m~\\AppData\\Roaming\\Python\\Python39\\site-packages\\pandas\\core\\ops\\array_ops.py:232\u001b[0m, in \u001b[0;36marithmetic_op\u001b[1;34m(left, right, op)\u001b[0m\n\u001b[0;32m    228\u001b[0m     _bool_arith_check(op, left, right)\n\u001b[0;32m    230\u001b[0m     \u001b[39m# error: Argument 1 to \"_na_arithmetic_op\" has incompatible type\u001b[39;00m\n\u001b[0;32m    231\u001b[0m     \u001b[39m# \"Union[ExtensionArray, ndarray[Any, Any]]\"; expected \"ndarray[Any, Any]\"\u001b[39;00m\n\u001b[1;32m--> 232\u001b[0m     res_values \u001b[39m=\u001b[39m _na_arithmetic_op(left, right, op)  \u001b[39m# type: ignore[arg-type]\u001b[39;00m\n\u001b[0;32m    234\u001b[0m \u001b[39mreturn\u001b[39;00m res_values\n",
      "File \u001b[1;32m~\\AppData\\Roaming\\Python\\Python39\\site-packages\\pandas\\core\\ops\\array_ops.py:171\u001b[0m, in \u001b[0;36m_na_arithmetic_op\u001b[1;34m(left, right, op, is_cmp)\u001b[0m\n\u001b[0;32m    168\u001b[0m     func \u001b[39m=\u001b[39m partial(expressions\u001b[39m.\u001b[39mevaluate, op)\n\u001b[0;32m    170\u001b[0m \u001b[39mtry\u001b[39;00m:\n\u001b[1;32m--> 171\u001b[0m     result \u001b[39m=\u001b[39m func(left, right)\n\u001b[0;32m    172\u001b[0m \u001b[39mexcept\u001b[39;00m \u001b[39mTypeError\u001b[39;00m:\n\u001b[0;32m    173\u001b[0m     \u001b[39mif\u001b[39;00m \u001b[39mnot\u001b[39;00m is_cmp \u001b[39mand\u001b[39;00m (is_object_dtype(left\u001b[39m.\u001b[39mdtype) \u001b[39mor\u001b[39;00m is_object_dtype(right)):\n\u001b[0;32m    174\u001b[0m         \u001b[39m# For object dtype, fallback to a masked operation (only operating\u001b[39;00m\n\u001b[0;32m    175\u001b[0m         \u001b[39m#  on the non-missing values)\u001b[39;00m\n\u001b[0;32m    176\u001b[0m         \u001b[39m# Don't do this for comparisons, as that will handle complex numbers\u001b[39;00m\n\u001b[0;32m    177\u001b[0m         \u001b[39m#  incorrectly, see GH#32047\u001b[39;00m\n",
      "File \u001b[1;32m~\\AppData\\Roaming\\Python\\Python39\\site-packages\\pandas\\core\\computation\\expressions.py:239\u001b[0m, in \u001b[0;36mevaluate\u001b[1;34m(op, a, b, use_numexpr)\u001b[0m\n\u001b[0;32m    236\u001b[0m \u001b[39mif\u001b[39;00m op_str \u001b[39mis\u001b[39;00m \u001b[39mnot\u001b[39;00m \u001b[39mNone\u001b[39;00m:\n\u001b[0;32m    237\u001b[0m     \u001b[39mif\u001b[39;00m use_numexpr:\n\u001b[0;32m    238\u001b[0m         \u001b[39m# error: \"None\" not callable\u001b[39;00m\n\u001b[1;32m--> 239\u001b[0m         \u001b[39mreturn\u001b[39;00m _evaluate(op, op_str, a, b)  \u001b[39m# type: ignore[misc]\u001b[39;00m\n\u001b[0;32m    240\u001b[0m \u001b[39mreturn\u001b[39;00m _evaluate_standard(op, op_str, a, b)\n",
      "File \u001b[1;32m~\\AppData\\Roaming\\Python\\Python39\\site-packages\\pandas\\core\\computation\\expressions.py:128\u001b[0m, in \u001b[0;36m_evaluate_numexpr\u001b[1;34m(op, op_str, a, b)\u001b[0m\n\u001b[0;32m    125\u001b[0m     _store_test_result(result \u001b[39mis\u001b[39;00m \u001b[39mnot\u001b[39;00m \u001b[39mNone\u001b[39;00m)\n\u001b[0;32m    127\u001b[0m \u001b[39mif\u001b[39;00m result \u001b[39mis\u001b[39;00m \u001b[39mNone\u001b[39;00m:\n\u001b[1;32m--> 128\u001b[0m     result \u001b[39m=\u001b[39m _evaluate_standard(op, op_str, a, b)\n\u001b[0;32m    130\u001b[0m \u001b[39mreturn\u001b[39;00m result\n",
      "File \u001b[1;32m~\\AppData\\Roaming\\Python\\Python39\\site-packages\\pandas\\core\\computation\\expressions.py:70\u001b[0m, in \u001b[0;36m_evaluate_standard\u001b[1;34m(op, op_str, a, b)\u001b[0m\n\u001b[0;32m     68\u001b[0m \u001b[39mif\u001b[39;00m _TEST_MODE:\n\u001b[0;32m     69\u001b[0m     _store_test_result(\u001b[39mFalse\u001b[39;00m)\n\u001b[1;32m---> 70\u001b[0m \u001b[39mreturn\u001b[39;00m op(a, b)\n",
      "File \u001b[1;32m~\\AppData\\Roaming\\Python\\Python39\\site-packages\\pandas\\core\\roperator.py:19\u001b[0m, in \u001b[0;36mrmul\u001b[1;34m(left, right)\u001b[0m\n\u001b[0;32m     18\u001b[0m \u001b[39mdef\u001b[39;00m \u001b[39mrmul\u001b[39m(left, right):\n\u001b[1;32m---> 19\u001b[0m     \u001b[39mreturn\u001b[39;00m right \u001b[39m*\u001b[39;49m left\n",
      "\u001b[1;31mValueError\u001b[0m: operands could not be broadcast together with shapes (596,) (377,) "
     ]
    }
   ],
   "source": [
    "predicted_returns = (y_pred_lda * 2 - 1) * newdf_test['Daily_Returns']\n",
    "\n",
    "mean_return = np.mean(predicted_returns)\n",
    "std_return = np.std(predicted_returns)\n",
    "\n",
    "sharpe_ratio = mean_return / std_return if std_return != 0 else 0\n",
    "print(\"Sharpe Ratio:\", sharpe_ratio)\n"
   ]
  }
 ],
 "metadata": {
  "kernelspec": {
   "display_name": "Python 3 (ipykernel)",
   "language": "python",
   "name": "python3"
  },
  "language_info": {
   "codemirror_mode": {
    "name": "ipython",
    "version": 3
   },
   "file_extension": ".py",
   "mimetype": "text/x-python",
   "name": "python",
   "nbconvert_exporter": "python",
   "pygments_lexer": "ipython3",
   "version": "3.9.7"
  }
 },
 "nbformat": 4,
 "nbformat_minor": 5
}
